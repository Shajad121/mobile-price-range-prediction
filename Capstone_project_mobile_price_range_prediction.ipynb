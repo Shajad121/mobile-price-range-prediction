{
  "cells": [
    {
      "cell_type": "markdown",
      "metadata": {
        "id": "view-in-github",
        "colab_type": "text"
      },
      "source": [
        "<a href=\"https://colab.research.google.com/github/Shajad121/mobile-price-range-prediction/blob/main/Capstone_project_mobile_price_range_prediction.ipynb\" target=\"_parent\"><img src=\"https://colab.research.google.com/assets/colab-badge.svg\" alt=\"Open In Colab\"/></a>"
      ]
    },
    {
      "cell_type": "code",
      "execution_count": 1,
      "metadata": {
        "id": "LkBHlDA4y6kN"
      },
      "outputs": [],
      "source": [
        ", train_test_split\n",
        "# import the librearys \n",
        "import numpy as np\n",
        "import pandas as pd\n",
        "from numpy import math\n",
        "from numpy import loadtxt\n",
        "import seaborn as sns\n",
        "import matplotlib.pyplot as plt\n",
        "%matplotlib inline\n",
        "from matplotlib import rcParams\n",
        "\n",
        "from sklearn.tree import DecisionTreeClassifier,DecisionTreeRegressor\n",
        "from sklearn.metrics import r2_score,mean_squared_error, mean_absolute_error\n",
        "import warnings\n",
        "warnings.filterwarnings('ignore')\n",
        "from sklearn.metrics import classification_report\n",
        "from sklearn.metrics import confusion_matrix, accuracy_score, recall_score, f1_score\n",
        "from sklearn.model_selection import train_test_split\n",
        "import time\n",
        "from sklearn.linear_model import LogisticRegression\n",
        "from sklearn.ensemble import RandomForestClassifier\n",
        "from sklearn.neighbors import KNeighborsClassifier\n",
        "from sklearn.svm import SVC,LinearSVC\n",
        "from sklearn.model_selection import RepeatedStratifiedKFold\n",
        "from sklearn.model_selection import GridSearchCV\n",
        "from sklearn.ensemble  import  BaggingClassifier\n",
        "from sklearn.ensemble import GradientBoostingClassifier\n",
        "import xgboost\n",
        "from xgboost import XGBClassifier\n",
        "from sklearn.ensemble import StackingClassifier"
      ]
    },
    {
      "cell_type": "code",
      "execution_count": 2,
      "metadata": {
        "colab": {
          "base_uri": "https://localhost:8080/"
        },
        "id": "sZTlx95ZLyAX",
        "outputId": "bfd569d4-be71-4ce4-ee7a-f3dd7449da81"
      },
      "outputs": [
        {
          "output_type": "stream",
          "name": "stdout",
          "text": [
            "Mounted at /content/drive\n"
          ]
        }
      ],
      "source": [
        "# mount colab to the drive\n",
        "from google.colab import drive \n",
        "drive .mount ('/content/drive')\n",
        "\n"
      ]
    },
    {
      "cell_type": "code",
      "execution_count": 3,
      "metadata": {
        "id": "i77ZVlM2L62G"
      },
      "outputs": [],
      "source": [
        "# loading the path and file \n",
        "df = pd.read_csv('/content/drive/MyDrive/classification project in mobile charn/data_mobile_price_range.csv')"
      ]
    },
    {
      "cell_type": "code",
      "execution_count": 4,
      "metadata": {
        "colab": {
          "base_uri": "https://localhost:8080/",
          "height": 174
        },
        "id": "_YqMercEMGkv",
        "outputId": "583ec260-b473-4814-e6b1-1cfd5af3b964"
      },
      "outputs": [
        {
          "output_type": "execute_result",
          "data": {
            "text/plain": [
              "   battery_power  blue  clock_speed  dual_sim  fc  four_g  int_memory  m_dep  \\\n",
              "0            842     0          2.2         0   1       0           7    0.6   \n",
              "\n",
              "   mobile_wt  n_cores  ...  px_height  px_width   ram  sc_h  sc_w  talk_time  \\\n",
              "0        188        2  ...         20       756  2549     9     7         19   \n",
              "\n",
              "   three_g  touch_screen  wifi  price_range  \n",
              "0        0             0     1            1  \n",
              "\n",
              "[1 rows x 21 columns]"
            ],
            "text/html": [
              "\n",
              "  <div id=\"df-f37cd74f-cae2-4cfd-a0e4-fc9867320d54\">\n",
              "    <div class=\"colab-df-container\">\n",
              "      <div>\n",
              "<style scoped>\n",
              "    .dataframe tbody tr th:only-of-type {\n",
              "        vertical-align: middle;\n",
              "    }\n",
              "\n",
              "    .dataframe tbody tr th {\n",
              "        vertical-align: top;\n",
              "    }\n",
              "\n",
              "    .dataframe thead th {\n",
              "        text-align: right;\n",
              "    }\n",
              "</style>\n",
              "<table border=\"1\" class=\"dataframe\">\n",
              "  <thead>\n",
              "    <tr style=\"text-align: right;\">\n",
              "      <th></th>\n",
              "      <th>battery_power</th>\n",
              "      <th>blue</th>\n",
              "      <th>clock_speed</th>\n",
              "      <th>dual_sim</th>\n",
              "      <th>fc</th>\n",
              "      <th>four_g</th>\n",
              "      <th>int_memory</th>\n",
              "      <th>m_dep</th>\n",
              "      <th>mobile_wt</th>\n",
              "      <th>n_cores</th>\n",
              "      <th>...</th>\n",
              "      <th>px_height</th>\n",
              "      <th>px_width</th>\n",
              "      <th>ram</th>\n",
              "      <th>sc_h</th>\n",
              "      <th>sc_w</th>\n",
              "      <th>talk_time</th>\n",
              "      <th>three_g</th>\n",
              "      <th>touch_screen</th>\n",
              "      <th>wifi</th>\n",
              "      <th>price_range</th>\n",
              "    </tr>\n",
              "  </thead>\n",
              "  <tbody>\n",
              "    <tr>\n",
              "      <th>0</th>\n",
              "      <td>842</td>\n",
              "      <td>0</td>\n",
              "      <td>2.2</td>\n",
              "      <td>0</td>\n",
              "      <td>1</td>\n",
              "      <td>0</td>\n",
              "      <td>7</td>\n",
              "      <td>0.6</td>\n",
              "      <td>188</td>\n",
              "      <td>2</td>\n",
              "      <td>...</td>\n",
              "      <td>20</td>\n",
              "      <td>756</td>\n",
              "      <td>2549</td>\n",
              "      <td>9</td>\n",
              "      <td>7</td>\n",
              "      <td>19</td>\n",
              "      <td>0</td>\n",
              "      <td>0</td>\n",
              "      <td>1</td>\n",
              "      <td>1</td>\n",
              "    </tr>\n",
              "  </tbody>\n",
              "</table>\n",
              "<p>1 rows × 21 columns</p>\n",
              "</div>\n",
              "      <button class=\"colab-df-convert\" onclick=\"convertToInteractive('df-f37cd74f-cae2-4cfd-a0e4-fc9867320d54')\"\n",
              "              title=\"Convert this dataframe to an interactive table.\"\n",
              "              style=\"display:none;\">\n",
              "        \n",
              "  <svg xmlns=\"http://www.w3.org/2000/svg\" height=\"24px\"viewBox=\"0 0 24 24\"\n",
              "       width=\"24px\">\n",
              "    <path d=\"M0 0h24v24H0V0z\" fill=\"none\"/>\n",
              "    <path d=\"M18.56 5.44l.94 2.06.94-2.06 2.06-.94-2.06-.94-.94-2.06-.94 2.06-2.06.94zm-11 1L8.5 8.5l.94-2.06 2.06-.94-2.06-.94L8.5 2.5l-.94 2.06-2.06.94zm10 10l.94 2.06.94-2.06 2.06-.94-2.06-.94-.94-2.06-.94 2.06-2.06.94z\"/><path d=\"M17.41 7.96l-1.37-1.37c-.4-.4-.92-.59-1.43-.59-.52 0-1.04.2-1.43.59L10.3 9.45l-7.72 7.72c-.78.78-.78 2.05 0 2.83L4 21.41c.39.39.9.59 1.41.59.51 0 1.02-.2 1.41-.59l7.78-7.78 2.81-2.81c.8-.78.8-2.07 0-2.86zM5.41 20L4 18.59l7.72-7.72 1.47 1.35L5.41 20z\"/>\n",
              "  </svg>\n",
              "      </button>\n",
              "      \n",
              "  <style>\n",
              "    .colab-df-container {\n",
              "      display:flex;\n",
              "      flex-wrap:wrap;\n",
              "      gap: 12px;\n",
              "    }\n",
              "\n",
              "    .colab-df-convert {\n",
              "      background-color: #E8F0FE;\n",
              "      border: none;\n",
              "      border-radius: 50%;\n",
              "      cursor: pointer;\n",
              "      display: none;\n",
              "      fill: #1967D2;\n",
              "      height: 32px;\n",
              "      padding: 0 0 0 0;\n",
              "      width: 32px;\n",
              "    }\n",
              "\n",
              "    .colab-df-convert:hover {\n",
              "      background-color: #E2EBFA;\n",
              "      box-shadow: 0px 1px 2px rgba(60, 64, 67, 0.3), 0px 1px 3px 1px rgba(60, 64, 67, 0.15);\n",
              "      fill: #174EA6;\n",
              "    }\n",
              "\n",
              "    [theme=dark] .colab-df-convert {\n",
              "      background-color: #3B4455;\n",
              "      fill: #D2E3FC;\n",
              "    }\n",
              "\n",
              "    [theme=dark] .colab-df-convert:hover {\n",
              "      background-color: #434B5C;\n",
              "      box-shadow: 0px 1px 3px 1px rgba(0, 0, 0, 0.15);\n",
              "      filter: drop-shadow(0px 1px 2px rgba(0, 0, 0, 0.3));\n",
              "      fill: #FFFFFF;\n",
              "    }\n",
              "  </style>\n",
              "\n",
              "      <script>\n",
              "        const buttonEl =\n",
              "          document.querySelector('#df-f37cd74f-cae2-4cfd-a0e4-fc9867320d54 button.colab-df-convert');\n",
              "        buttonEl.style.display =\n",
              "          google.colab.kernel.accessAllowed ? 'block' : 'none';\n",
              "\n",
              "        async function convertToInteractive(key) {\n",
              "          const element = document.querySelector('#df-f37cd74f-cae2-4cfd-a0e4-fc9867320d54');\n",
              "          const dataTable =\n",
              "            await google.colab.kernel.invokeFunction('convertToInteractive',\n",
              "                                                     [key], {});\n",
              "          if (!dataTable) return;\n",
              "\n",
              "          const docLinkHtml = 'Like what you see? Visit the ' +\n",
              "            '<a target=\"_blank\" href=https://colab.research.google.com/notebooks/data_table.ipynb>data table notebook</a>'\n",
              "            + ' to learn more about interactive tables.';\n",
              "          element.innerHTML = '';\n",
              "          dataTable['output_type'] = 'display_data';\n",
              "          await google.colab.output.renderOutput(dataTable, element);\n",
              "          const docLink = document.createElement('div');\n",
              "          docLink.innerHTML = docLinkHtml;\n",
              "          element.appendChild(docLink);\n",
              "        }\n",
              "      </script>\n",
              "    </div>\n",
              "  </div>\n",
              "  "
            ]
          },
          "metadata": {},
          "execution_count": 4
        }
      ],
      "source": [
        "# Dataset First Look\n",
        "df.head(1)"
      ]
    },
    {
      "cell_type": "code",
      "execution_count": 5,
      "metadata": {
        "colab": {
          "base_uri": "https://localhost:8080/"
        },
        "id": "nrr4QQdcMhbZ",
        "outputId": "d7448738-1350-4a1a-b2fd-4a81456adf63"
      },
      "outputs": [
        {
          "output_type": "execute_result",
          "data": {
            "text/plain": [
              "(2000, 21)"
            ]
          },
          "metadata": {},
          "execution_count": 5
        }
      ],
      "source": [
        "# Dataset Rows & Columns count\n",
        "df.shape"
      ]
    },
    {
      "cell_type": "code",
      "execution_count": 6,
      "metadata": {
        "colab": {
          "base_uri": "https://localhost:8080/"
        },
        "id": "yJJv2ct7MhX5",
        "outputId": "a9a06bc1-058c-4f57-84ac-df79292099fa"
      },
      "outputs": [
        {
          "output_type": "stream",
          "name": "stdout",
          "text": [
            "<class 'pandas.core.frame.DataFrame'>\n",
            "RangeIndex: 2000 entries, 0 to 1999\n",
            "Data columns (total 21 columns):\n",
            " #   Column         Non-Null Count  Dtype  \n",
            "---  ------         --------------  -----  \n",
            " 0   battery_power  2000 non-null   int64  \n",
            " 1   blue           2000 non-null   int64  \n",
            " 2   clock_speed    2000 non-null   float64\n",
            " 3   dual_sim       2000 non-null   int64  \n",
            " 4   fc             2000 non-null   int64  \n",
            " 5   four_g         2000 non-null   int64  \n",
            " 6   int_memory     2000 non-null   int64  \n",
            " 7   m_dep          2000 non-null   float64\n",
            " 8   mobile_wt      2000 non-null   int64  \n",
            " 9   n_cores        2000 non-null   int64  \n",
            " 10  pc             2000 non-null   int64  \n",
            " 11  px_height      2000 non-null   int64  \n",
            " 12  px_width       2000 non-null   int64  \n",
            " 13  ram            2000 non-null   int64  \n",
            " 14  sc_h           2000 non-null   int64  \n",
            " 15  sc_w           2000 non-null   int64  \n",
            " 16  talk_time      2000 non-null   int64  \n",
            " 17  three_g        2000 non-null   int64  \n",
            " 18  touch_screen   2000 non-null   int64  \n",
            " 19  wifi           2000 non-null   int64  \n",
            " 20  price_range    2000 non-null   int64  \n",
            "dtypes: float64(2), int64(19)\n",
            "memory usage: 328.2 KB\n"
          ]
        }
      ],
      "source": [
        "# Dataset Info\n",
        "df.info()"
      ]
    },
    {
      "cell_type": "code",
      "execution_count": 7,
      "metadata": {
        "colab": {
          "base_uri": "https://localhost:8080/"
        },
        "id": "897cSebRMhVc",
        "outputId": "2896748e-8a21-471c-a67d-800b4da876b4"
      },
      "outputs": [
        {
          "output_type": "execute_result",
          "data": {
            "text/plain": [
              "0       False\n",
              "1       False\n",
              "2       False\n",
              "3       False\n",
              "4       False\n",
              "        ...  \n",
              "1995    False\n",
              "1996    False\n",
              "1997    False\n",
              "1998    False\n",
              "1999    False\n",
              "Length: 2000, dtype: bool"
            ]
          },
          "metadata": {},
          "execution_count": 7
        }
      ],
      "source": [
        "# Dataset Duplicate Value Count\n",
        "df.duplicated()"
      ]
    },
    {
      "cell_type": "code",
      "execution_count": 8,
      "metadata": {
        "colab": {
          "base_uri": "https://localhost:8080/"
        },
        "id": "bLf3YS4IMhTG",
        "outputId": "92bf2319-4a85-4955-e52c-b89b1d01dde0"
      },
      "outputs": [
        {
          "output_type": "execute_result",
          "data": {
            "text/plain": [
              "battery_power    0\n",
              "blue             0\n",
              "clock_speed      0\n",
              "dual_sim         0\n",
              "fc               0\n",
              "four_g           0\n",
              "int_memory       0\n",
              "m_dep            0\n",
              "mobile_wt        0\n",
              "n_cores          0\n",
              "pc               0\n",
              "px_height        0\n",
              "px_width         0\n",
              "ram              0\n",
              "sc_h             0\n",
              "sc_w             0\n",
              "talk_time        0\n",
              "three_g          0\n",
              "touch_screen     0\n",
              "wifi             0\n",
              "price_range      0\n",
              "dtype: int64"
            ]
          },
          "metadata": {},
          "execution_count": 8
        }
      ],
      "source": [
        "# Missing Values/Null Values Count\n",
        "df.isnull().sum()"
      ]
    },
    {
      "cell_type": "markdown",
      "metadata": {
        "id": "SpwucqujOtwl"
      },
      "source": [
        "WHAT WE UNDERSTAND ABOUT THE DATA"
      ]
    },
    {
      "cell_type": "markdown",
      "metadata": {
        "id": "x1ggbe6kO3VQ"
      },
      "source": [
        "There are 2000 rows and 21 columns in this dataset and in this data set 2 columns are float and rest of 19 columns are int type. there is no missing values and no any duplicated values are persent in this dataset and there is no null values persent in this data."
      ]
    },
    {
      "cell_type": "markdown",
      "metadata": {
        "id": "D_9LuP8sO89u"
      },
      "source": [
        "## ***2. Understanding Variables***"
      ]
    },
    {
      "cell_type": "code",
      "execution_count": 9,
      "metadata": {
        "colab": {
          "base_uri": "https://localhost:8080/",
          "height": 174
        },
        "id": "8Allg3wwOoaM",
        "outputId": "83c4f6e5-3471-442b-b49a-8889fa7f9f86"
      },
      "outputs": [
        {
          "output_type": "execute_result",
          "data": {
            "text/plain": [
              "   battery_power  blue  clock_speed  dual_sim  fc  four_g  int_memory  m_dep  \\\n",
              "0            842     0          2.2         0   1       0           7    0.6   \n",
              "\n",
              "   mobile_wt  n_cores  ...  px_height  px_width   ram  sc_h  sc_w  talk_time  \\\n",
              "0        188        2  ...         20       756  2549     9     7         19   \n",
              "\n",
              "   three_g  touch_screen  wifi  price_range  \n",
              "0        0             0     1            1  \n",
              "\n",
              "[1 rows x 21 columns]"
            ],
            "text/html": [
              "\n",
              "  <div id=\"df-27bfdc39-34e8-42d3-b21a-6b9ce3405ff6\">\n",
              "    <div class=\"colab-df-container\">\n",
              "      <div>\n",
              "<style scoped>\n",
              "    .dataframe tbody tr th:only-of-type {\n",
              "        vertical-align: middle;\n",
              "    }\n",
              "\n",
              "    .dataframe tbody tr th {\n",
              "        vertical-align: top;\n",
              "    }\n",
              "\n",
              "    .dataframe thead th {\n",
              "        text-align: right;\n",
              "    }\n",
              "</style>\n",
              "<table border=\"1\" class=\"dataframe\">\n",
              "  <thead>\n",
              "    <tr style=\"text-align: right;\">\n",
              "      <th></th>\n",
              "      <th>battery_power</th>\n",
              "      <th>blue</th>\n",
              "      <th>clock_speed</th>\n",
              "      <th>dual_sim</th>\n",
              "      <th>fc</th>\n",
              "      <th>four_g</th>\n",
              "      <th>int_memory</th>\n",
              "      <th>m_dep</th>\n",
              "      <th>mobile_wt</th>\n",
              "      <th>n_cores</th>\n",
              "      <th>...</th>\n",
              "      <th>px_height</th>\n",
              "      <th>px_width</th>\n",
              "      <th>ram</th>\n",
              "      <th>sc_h</th>\n",
              "      <th>sc_w</th>\n",
              "      <th>talk_time</th>\n",
              "      <th>three_g</th>\n",
              "      <th>touch_screen</th>\n",
              "      <th>wifi</th>\n",
              "      <th>price_range</th>\n",
              "    </tr>\n",
              "  </thead>\n",
              "  <tbody>\n",
              "    <tr>\n",
              "      <th>0</th>\n",
              "      <td>842</td>\n",
              "      <td>0</td>\n",
              "      <td>2.2</td>\n",
              "      <td>0</td>\n",
              "      <td>1</td>\n",
              "      <td>0</td>\n",
              "      <td>7</td>\n",
              "      <td>0.6</td>\n",
              "      <td>188</td>\n",
              "      <td>2</td>\n",
              "      <td>...</td>\n",
              "      <td>20</td>\n",
              "      <td>756</td>\n",
              "      <td>2549</td>\n",
              "      <td>9</td>\n",
              "      <td>7</td>\n",
              "      <td>19</td>\n",
              "      <td>0</td>\n",
              "      <td>0</td>\n",
              "      <td>1</td>\n",
              "      <td>1</td>\n",
              "    </tr>\n",
              "  </tbody>\n",
              "</table>\n",
              "<p>1 rows × 21 columns</p>\n",
              "</div>\n",
              "      <button class=\"colab-df-convert\" onclick=\"convertToInteractive('df-27bfdc39-34e8-42d3-b21a-6b9ce3405ff6')\"\n",
              "              title=\"Convert this dataframe to an interactive table.\"\n",
              "              style=\"display:none;\">\n",
              "        \n",
              "  <svg xmlns=\"http://www.w3.org/2000/svg\" height=\"24px\"viewBox=\"0 0 24 24\"\n",
              "       width=\"24px\">\n",
              "    <path d=\"M0 0h24v24H0V0z\" fill=\"none\"/>\n",
              "    <path d=\"M18.56 5.44l.94 2.06.94-2.06 2.06-.94-2.06-.94-.94-2.06-.94 2.06-2.06.94zm-11 1L8.5 8.5l.94-2.06 2.06-.94-2.06-.94L8.5 2.5l-.94 2.06-2.06.94zm10 10l.94 2.06.94-2.06 2.06-.94-2.06-.94-.94-2.06-.94 2.06-2.06.94z\"/><path d=\"M17.41 7.96l-1.37-1.37c-.4-.4-.92-.59-1.43-.59-.52 0-1.04.2-1.43.59L10.3 9.45l-7.72 7.72c-.78.78-.78 2.05 0 2.83L4 21.41c.39.39.9.59 1.41.59.51 0 1.02-.2 1.41-.59l7.78-7.78 2.81-2.81c.8-.78.8-2.07 0-2.86zM5.41 20L4 18.59l7.72-7.72 1.47 1.35L5.41 20z\"/>\n",
              "  </svg>\n",
              "      </button>\n",
              "      \n",
              "  <style>\n",
              "    .colab-df-container {\n",
              "      display:flex;\n",
              "      flex-wrap:wrap;\n",
              "      gap: 12px;\n",
              "    }\n",
              "\n",
              "    .colab-df-convert {\n",
              "      background-color: #E8F0FE;\n",
              "      border: none;\n",
              "      border-radius: 50%;\n",
              "      cursor: pointer;\n",
              "      display: none;\n",
              "      fill: #1967D2;\n",
              "      height: 32px;\n",
              "      padding: 0 0 0 0;\n",
              "      width: 32px;\n",
              "    }\n",
              "\n",
              "    .colab-df-convert:hover {\n",
              "      background-color: #E2EBFA;\n",
              "      box-shadow: 0px 1px 2px rgba(60, 64, 67, 0.3), 0px 1px 3px 1px rgba(60, 64, 67, 0.15);\n",
              "      fill: #174EA6;\n",
              "    }\n",
              "\n",
              "    [theme=dark] .colab-df-convert {\n",
              "      background-color: #3B4455;\n",
              "      fill: #D2E3FC;\n",
              "    }\n",
              "\n",
              "    [theme=dark] .colab-df-convert:hover {\n",
              "      background-color: #434B5C;\n",
              "      box-shadow: 0px 1px 3px 1px rgba(0, 0, 0, 0.15);\n",
              "      filter: drop-shadow(0px 1px 2px rgba(0, 0, 0, 0.3));\n",
              "      fill: #FFFFFF;\n",
              "    }\n",
              "  </style>\n",
              "\n",
              "      <script>\n",
              "        const buttonEl =\n",
              "          document.querySelector('#df-27bfdc39-34e8-42d3-b21a-6b9ce3405ff6 button.colab-df-convert');\n",
              "        buttonEl.style.display =\n",
              "          google.colab.kernel.accessAllowed ? 'block' : 'none';\n",
              "\n",
              "        async function convertToInteractive(key) {\n",
              "          const element = document.querySelector('#df-27bfdc39-34e8-42d3-b21a-6b9ce3405ff6');\n",
              "          const dataTable =\n",
              "            await google.colab.kernel.invokeFunction('convertToInteractive',\n",
              "                                                     [key], {});\n",
              "          if (!dataTable) return;\n",
              "\n",
              "          const docLinkHtml = 'Like what you see? Visit the ' +\n",
              "            '<a target=\"_blank\" href=https://colab.research.google.com/notebooks/data_table.ipynb>data table notebook</a>'\n",
              "            + ' to learn more about interactive tables.';\n",
              "          element.innerHTML = '';\n",
              "          dataTable['output_type'] = 'display_data';\n",
              "          await google.colab.output.renderOutput(dataTable, element);\n",
              "          const docLink = document.createElement('div');\n",
              "          docLink.innerHTML = docLinkHtml;\n",
              "          element.appendChild(docLink);\n",
              "        }\n",
              "      </script>\n",
              "    </div>\n",
              "  </div>\n",
              "  "
            ]
          },
          "metadata": {},
          "execution_count": 9
        }
      ],
      "source": [
        "# Dataset Columns\n",
        "df.head(1)"
      ]
    },
    {
      "cell_type": "code",
      "execution_count": 10,
      "metadata": {
        "colab": {
          "base_uri": "https://localhost:8080/",
          "height": 393
        },
        "id": "5ARbCvR7OoTC",
        "outputId": "2e5db307-59fc-4075-e93f-53981e6cc217"
      },
      "outputs": [
        {
          "output_type": "execute_result",
          "data": {
            "text/plain": [
              "       battery_power       blue  clock_speed     dual_sim           fc  \\\n",
              "count    2000.000000  2000.0000  2000.000000  2000.000000  2000.000000   \n",
              "mean     1238.518500     0.4950     1.522250     0.509500     4.309500   \n",
              "std       439.418206     0.5001     0.816004     0.500035     4.341444   \n",
              "min       501.000000     0.0000     0.500000     0.000000     0.000000   \n",
              "25%       851.750000     0.0000     0.700000     0.000000     1.000000   \n",
              "50%      1226.000000     0.0000     1.500000     1.000000     3.000000   \n",
              "75%      1615.250000     1.0000     2.200000     1.000000     7.000000   \n",
              "max      1998.000000     1.0000     3.000000     1.000000    19.000000   \n",
              "\n",
              "            four_g   int_memory        m_dep    mobile_wt      n_cores  ...  \\\n",
              "count  2000.000000  2000.000000  2000.000000  2000.000000  2000.000000  ...   \n",
              "mean      0.521500    32.046500     0.501750   140.249000     4.520500  ...   \n",
              "std       0.499662    18.145715     0.288416    35.399655     2.287837  ...   \n",
              "min       0.000000     2.000000     0.100000    80.000000     1.000000  ...   \n",
              "25%       0.000000    16.000000     0.200000   109.000000     3.000000  ...   \n",
              "50%       1.000000    32.000000     0.500000   141.000000     4.000000  ...   \n",
              "75%       1.000000    48.000000     0.800000   170.000000     7.000000  ...   \n",
              "max       1.000000    64.000000     1.000000   200.000000     8.000000  ...   \n",
              "\n",
              "         px_height     px_width          ram         sc_h         sc_w  \\\n",
              "count  2000.000000  2000.000000  2000.000000  2000.000000  2000.000000   \n",
              "mean    645.108000  1251.515500  2124.213000    12.306500     5.767000   \n",
              "std     443.780811   432.199447  1084.732044     4.213245     4.356398   \n",
              "min       0.000000   500.000000   256.000000     5.000000     0.000000   \n",
              "25%     282.750000   874.750000  1207.500000     9.000000     2.000000   \n",
              "50%     564.000000  1247.000000  2146.500000    12.000000     5.000000   \n",
              "75%     947.250000  1633.000000  3064.500000    16.000000     9.000000   \n",
              "max    1960.000000  1998.000000  3998.000000    19.000000    18.000000   \n",
              "\n",
              "         talk_time      three_g  touch_screen         wifi  price_range  \n",
              "count  2000.000000  2000.000000   2000.000000  2000.000000  2000.000000  \n",
              "mean     11.011000     0.761500      0.503000     0.507000     1.500000  \n",
              "std       5.463955     0.426273      0.500116     0.500076     1.118314  \n",
              "min       2.000000     0.000000      0.000000     0.000000     0.000000  \n",
              "25%       6.000000     1.000000      0.000000     0.000000     0.750000  \n",
              "50%      11.000000     1.000000      1.000000     1.000000     1.500000  \n",
              "75%      16.000000     1.000000      1.000000     1.000000     2.250000  \n",
              "max      20.000000     1.000000      1.000000     1.000000     3.000000  \n",
              "\n",
              "[8 rows x 21 columns]"
            ],
            "text/html": [
              "\n",
              "  <div id=\"df-c1a6f439-e95c-42ae-8cb5-240eabec2d6c\">\n",
              "    <div class=\"colab-df-container\">\n",
              "      <div>\n",
              "<style scoped>\n",
              "    .dataframe tbody tr th:only-of-type {\n",
              "        vertical-align: middle;\n",
              "    }\n",
              "\n",
              "    .dataframe tbody tr th {\n",
              "        vertical-align: top;\n",
              "    }\n",
              "\n",
              "    .dataframe thead th {\n",
              "        text-align: right;\n",
              "    }\n",
              "</style>\n",
              "<table border=\"1\" class=\"dataframe\">\n",
              "  <thead>\n",
              "    <tr style=\"text-align: right;\">\n",
              "      <th></th>\n",
              "      <th>battery_power</th>\n",
              "      <th>blue</th>\n",
              "      <th>clock_speed</th>\n",
              "      <th>dual_sim</th>\n",
              "      <th>fc</th>\n",
              "      <th>four_g</th>\n",
              "      <th>int_memory</th>\n",
              "      <th>m_dep</th>\n",
              "      <th>mobile_wt</th>\n",
              "      <th>n_cores</th>\n",
              "      <th>...</th>\n",
              "      <th>px_height</th>\n",
              "      <th>px_width</th>\n",
              "      <th>ram</th>\n",
              "      <th>sc_h</th>\n",
              "      <th>sc_w</th>\n",
              "      <th>talk_time</th>\n",
              "      <th>three_g</th>\n",
              "      <th>touch_screen</th>\n",
              "      <th>wifi</th>\n",
              "      <th>price_range</th>\n",
              "    </tr>\n",
              "  </thead>\n",
              "  <tbody>\n",
              "    <tr>\n",
              "      <th>count</th>\n",
              "      <td>2000.000000</td>\n",
              "      <td>2000.0000</td>\n",
              "      <td>2000.000000</td>\n",
              "      <td>2000.000000</td>\n",
              "      <td>2000.000000</td>\n",
              "      <td>2000.000000</td>\n",
              "      <td>2000.000000</td>\n",
              "      <td>2000.000000</td>\n",
              "      <td>2000.000000</td>\n",
              "      <td>2000.000000</td>\n",
              "      <td>...</td>\n",
              "      <td>2000.000000</td>\n",
              "      <td>2000.000000</td>\n",
              "      <td>2000.000000</td>\n",
              "      <td>2000.000000</td>\n",
              "      <td>2000.000000</td>\n",
              "      <td>2000.000000</td>\n",
              "      <td>2000.000000</td>\n",
              "      <td>2000.000000</td>\n",
              "      <td>2000.000000</td>\n",
              "      <td>2000.000000</td>\n",
              "    </tr>\n",
              "    <tr>\n",
              "      <th>mean</th>\n",
              "      <td>1238.518500</td>\n",
              "      <td>0.4950</td>\n",
              "      <td>1.522250</td>\n",
              "      <td>0.509500</td>\n",
              "      <td>4.309500</td>\n",
              "      <td>0.521500</td>\n",
              "      <td>32.046500</td>\n",
              "      <td>0.501750</td>\n",
              "      <td>140.249000</td>\n",
              "      <td>4.520500</td>\n",
              "      <td>...</td>\n",
              "      <td>645.108000</td>\n",
              "      <td>1251.515500</td>\n",
              "      <td>2124.213000</td>\n",
              "      <td>12.306500</td>\n",
              "      <td>5.767000</td>\n",
              "      <td>11.011000</td>\n",
              "      <td>0.761500</td>\n",
              "      <td>0.503000</td>\n",
              "      <td>0.507000</td>\n",
              "      <td>1.500000</td>\n",
              "    </tr>\n",
              "    <tr>\n",
              "      <th>std</th>\n",
              "      <td>439.418206</td>\n",
              "      <td>0.5001</td>\n",
              "      <td>0.816004</td>\n",
              "      <td>0.500035</td>\n",
              "      <td>4.341444</td>\n",
              "      <td>0.499662</td>\n",
              "      <td>18.145715</td>\n",
              "      <td>0.288416</td>\n",
              "      <td>35.399655</td>\n",
              "      <td>2.287837</td>\n",
              "      <td>...</td>\n",
              "      <td>443.780811</td>\n",
              "      <td>432.199447</td>\n",
              "      <td>1084.732044</td>\n",
              "      <td>4.213245</td>\n",
              "      <td>4.356398</td>\n",
              "      <td>5.463955</td>\n",
              "      <td>0.426273</td>\n",
              "      <td>0.500116</td>\n",
              "      <td>0.500076</td>\n",
              "      <td>1.118314</td>\n",
              "    </tr>\n",
              "    <tr>\n",
              "      <th>min</th>\n",
              "      <td>501.000000</td>\n",
              "      <td>0.0000</td>\n",
              "      <td>0.500000</td>\n",
              "      <td>0.000000</td>\n",
              "      <td>0.000000</td>\n",
              "      <td>0.000000</td>\n",
              "      <td>2.000000</td>\n",
              "      <td>0.100000</td>\n",
              "      <td>80.000000</td>\n",
              "      <td>1.000000</td>\n",
              "      <td>...</td>\n",
              "      <td>0.000000</td>\n",
              "      <td>500.000000</td>\n",
              "      <td>256.000000</td>\n",
              "      <td>5.000000</td>\n",
              "      <td>0.000000</td>\n",
              "      <td>2.000000</td>\n",
              "      <td>0.000000</td>\n",
              "      <td>0.000000</td>\n",
              "      <td>0.000000</td>\n",
              "      <td>0.000000</td>\n",
              "    </tr>\n",
              "    <tr>\n",
              "      <th>25%</th>\n",
              "      <td>851.750000</td>\n",
              "      <td>0.0000</td>\n",
              "      <td>0.700000</td>\n",
              "      <td>0.000000</td>\n",
              "      <td>1.000000</td>\n",
              "      <td>0.000000</td>\n",
              "      <td>16.000000</td>\n",
              "      <td>0.200000</td>\n",
              "      <td>109.000000</td>\n",
              "      <td>3.000000</td>\n",
              "      <td>...</td>\n",
              "      <td>282.750000</td>\n",
              "      <td>874.750000</td>\n",
              "      <td>1207.500000</td>\n",
              "      <td>9.000000</td>\n",
              "      <td>2.000000</td>\n",
              "      <td>6.000000</td>\n",
              "      <td>1.000000</td>\n",
              "      <td>0.000000</td>\n",
              "      <td>0.000000</td>\n",
              "      <td>0.750000</td>\n",
              "    </tr>\n",
              "    <tr>\n",
              "      <th>50%</th>\n",
              "      <td>1226.000000</td>\n",
              "      <td>0.0000</td>\n",
              "      <td>1.500000</td>\n",
              "      <td>1.000000</td>\n",
              "      <td>3.000000</td>\n",
              "      <td>1.000000</td>\n",
              "      <td>32.000000</td>\n",
              "      <td>0.500000</td>\n",
              "      <td>141.000000</td>\n",
              "      <td>4.000000</td>\n",
              "      <td>...</td>\n",
              "      <td>564.000000</td>\n",
              "      <td>1247.000000</td>\n",
              "      <td>2146.500000</td>\n",
              "      <td>12.000000</td>\n",
              "      <td>5.000000</td>\n",
              "      <td>11.000000</td>\n",
              "      <td>1.000000</td>\n",
              "      <td>1.000000</td>\n",
              "      <td>1.000000</td>\n",
              "      <td>1.500000</td>\n",
              "    </tr>\n",
              "    <tr>\n",
              "      <th>75%</th>\n",
              "      <td>1615.250000</td>\n",
              "      <td>1.0000</td>\n",
              "      <td>2.200000</td>\n",
              "      <td>1.000000</td>\n",
              "      <td>7.000000</td>\n",
              "      <td>1.000000</td>\n",
              "      <td>48.000000</td>\n",
              "      <td>0.800000</td>\n",
              "      <td>170.000000</td>\n",
              "      <td>7.000000</td>\n",
              "      <td>...</td>\n",
              "      <td>947.250000</td>\n",
              "      <td>1633.000000</td>\n",
              "      <td>3064.500000</td>\n",
              "      <td>16.000000</td>\n",
              "      <td>9.000000</td>\n",
              "      <td>16.000000</td>\n",
              "      <td>1.000000</td>\n",
              "      <td>1.000000</td>\n",
              "      <td>1.000000</td>\n",
              "      <td>2.250000</td>\n",
              "    </tr>\n",
              "    <tr>\n",
              "      <th>max</th>\n",
              "      <td>1998.000000</td>\n",
              "      <td>1.0000</td>\n",
              "      <td>3.000000</td>\n",
              "      <td>1.000000</td>\n",
              "      <td>19.000000</td>\n",
              "      <td>1.000000</td>\n",
              "      <td>64.000000</td>\n",
              "      <td>1.000000</td>\n",
              "      <td>200.000000</td>\n",
              "      <td>8.000000</td>\n",
              "      <td>...</td>\n",
              "      <td>1960.000000</td>\n",
              "      <td>1998.000000</td>\n",
              "      <td>3998.000000</td>\n",
              "      <td>19.000000</td>\n",
              "      <td>18.000000</td>\n",
              "      <td>20.000000</td>\n",
              "      <td>1.000000</td>\n",
              "      <td>1.000000</td>\n",
              "      <td>1.000000</td>\n",
              "      <td>3.000000</td>\n",
              "    </tr>\n",
              "  </tbody>\n",
              "</table>\n",
              "<p>8 rows × 21 columns</p>\n",
              "</div>\n",
              "      <button class=\"colab-df-convert\" onclick=\"convertToInteractive('df-c1a6f439-e95c-42ae-8cb5-240eabec2d6c')\"\n",
              "              title=\"Convert this dataframe to an interactive table.\"\n",
              "              style=\"display:none;\">\n",
              "        \n",
              "  <svg xmlns=\"http://www.w3.org/2000/svg\" height=\"24px\"viewBox=\"0 0 24 24\"\n",
              "       width=\"24px\">\n",
              "    <path d=\"M0 0h24v24H0V0z\" fill=\"none\"/>\n",
              "    <path d=\"M18.56 5.44l.94 2.06.94-2.06 2.06-.94-2.06-.94-.94-2.06-.94 2.06-2.06.94zm-11 1L8.5 8.5l.94-2.06 2.06-.94-2.06-.94L8.5 2.5l-.94 2.06-2.06.94zm10 10l.94 2.06.94-2.06 2.06-.94-2.06-.94-.94-2.06-.94 2.06-2.06.94z\"/><path d=\"M17.41 7.96l-1.37-1.37c-.4-.4-.92-.59-1.43-.59-.52 0-1.04.2-1.43.59L10.3 9.45l-7.72 7.72c-.78.78-.78 2.05 0 2.83L4 21.41c.39.39.9.59 1.41.59.51 0 1.02-.2 1.41-.59l7.78-7.78 2.81-2.81c.8-.78.8-2.07 0-2.86zM5.41 20L4 18.59l7.72-7.72 1.47 1.35L5.41 20z\"/>\n",
              "  </svg>\n",
              "      </button>\n",
              "      \n",
              "  <style>\n",
              "    .colab-df-container {\n",
              "      display:flex;\n",
              "      flex-wrap:wrap;\n",
              "      gap: 12px;\n",
              "    }\n",
              "\n",
              "    .colab-df-convert {\n",
              "      background-color: #E8F0FE;\n",
              "      border: none;\n",
              "      border-radius: 50%;\n",
              "      cursor: pointer;\n",
              "      display: none;\n",
              "      fill: #1967D2;\n",
              "      height: 32px;\n",
              "      padding: 0 0 0 0;\n",
              "      width: 32px;\n",
              "    }\n",
              "\n",
              "    .colab-df-convert:hover {\n",
              "      background-color: #E2EBFA;\n",
              "      box-shadow: 0px 1px 2px rgba(60, 64, 67, 0.3), 0px 1px 3px 1px rgba(60, 64, 67, 0.15);\n",
              "      fill: #174EA6;\n",
              "    }\n",
              "\n",
              "    [theme=dark] .colab-df-convert {\n",
              "      background-color: #3B4455;\n",
              "      fill: #D2E3FC;\n",
              "    }\n",
              "\n",
              "    [theme=dark] .colab-df-convert:hover {\n",
              "      background-color: #434B5C;\n",
              "      box-shadow: 0px 1px 3px 1px rgba(0, 0, 0, 0.15);\n",
              "      filter: drop-shadow(0px 1px 2px rgba(0, 0, 0, 0.3));\n",
              "      fill: #FFFFFF;\n",
              "    }\n",
              "  </style>\n",
              "\n",
              "      <script>\n",
              "        const buttonEl =\n",
              "          document.querySelector('#df-c1a6f439-e95c-42ae-8cb5-240eabec2d6c button.colab-df-convert');\n",
              "        buttonEl.style.display =\n",
              "          google.colab.kernel.accessAllowed ? 'block' : 'none';\n",
              "\n",
              "        async function convertToInteractive(key) {\n",
              "          const element = document.querySelector('#df-c1a6f439-e95c-42ae-8cb5-240eabec2d6c');\n",
              "          const dataTable =\n",
              "            await google.colab.kernel.invokeFunction('convertToInteractive',\n",
              "                                                     [key], {});\n",
              "          if (!dataTable) return;\n",
              "\n",
              "          const docLinkHtml = 'Like what you see? Visit the ' +\n",
              "            '<a target=\"_blank\" href=https://colab.research.google.com/notebooks/data_table.ipynb>data table notebook</a>'\n",
              "            + ' to learn more about interactive tables.';\n",
              "          element.innerHTML = '';\n",
              "          dataTable['output_type'] = 'display_data';\n",
              "          await google.colab.output.renderOutput(dataTable, element);\n",
              "          const docLink = document.createElement('div');\n",
              "          docLink.innerHTML = docLinkHtml;\n",
              "          element.appendChild(docLink);\n",
              "        }\n",
              "      </script>\n",
              "    </div>\n",
              "  </div>\n",
              "  "
            ]
          },
          "metadata": {},
          "execution_count": 10
        }
      ],
      "source": [
        "# Dataset Describe\n",
        "df.describe()"
      ]
    },
    {
      "cell_type": "code",
      "execution_count": 11,
      "metadata": {
        "colab": {
          "base_uri": "https://localhost:8080/",
          "height": 769
        },
        "id": "SoiBZt8eOoPb",
        "outputId": "d6c2cfcf-0812-4bb8-eda0-f24f4c45f6d3"
      },
      "outputs": [
        {
          "output_type": "execute_result",
          "data": {
            "text/plain": [
              "    battery_power  blue  clock_speed  dual_sim  fc  four_g  int_memory  m_dep  \\\n",
              "0             842     0          2.2         0   1       0           7    0.6   \n",
              "1            1021     1          0.5         1   0       1          53    0.7   \n",
              "2             563     1          0.5         1   2       1          41    0.9   \n",
              "3             615     1          2.5         0   0       0          10    0.8   \n",
              "4            1821     1          1.2         0  13       1          44    0.6   \n",
              "5            1859     0          0.5         1   3       0          22    0.7   \n",
              "6            1821     0          1.7         0   4       1          10    0.8   \n",
              "7            1954     0          0.5         1   0       0          24    0.8   \n",
              "8            1445     1          0.5         0   0       0          53    0.7   \n",
              "9             509     1          0.6         1   2       1           9    0.1   \n",
              "10            769     1          2.9         1   0       0           9    0.1   \n",
              "11           1520     1          2.2         0   5       1          33    0.5   \n",
              "12           1815     0          2.8         0   2       0          33    0.6   \n",
              "13            803     1          2.1         0   7       0          17    1.0   \n",
              "14           1866     0          0.5         0  13       1          52    0.7   \n",
              "15            775     0          1.0         0   3       0          46    0.7   \n",
              "16            838     0          0.5         0   1       1          13    0.1   \n",
              "17            595     0          0.9         1   7       1          23    0.1   \n",
              "18           1131     1          0.5         1  11       0          49    0.6   \n",
              "19            682     1          0.5         0   4       0          19    1.0   \n",
              "\n",
              "    mobile_wt  n_cores  ...  px_height  px_width   ram  sc_h  sc_w  talk_time  \\\n",
              "0         188        2  ...         20       756  2549     9     7         19   \n",
              "1         136        3  ...        905      1988  2631    17     3          7   \n",
              "2         145        5  ...       1263      1716  2603    11     2          9   \n",
              "3         131        6  ...       1216      1786  2769    16     8         11   \n",
              "4         141        2  ...       1208      1212  1411     8     2         15   \n",
              "5         164        1  ...       1004      1654  1067    17     1         10   \n",
              "6         139        8  ...        381      1018  3220    13     8         18   \n",
              "7         187        4  ...        512      1149   700    16     3          5   \n",
              "8         174        7  ...        386       836  1099    17     1         20   \n",
              "9          93        5  ...       1137      1224   513    19    10         12   \n",
              "10        182        5  ...        248       874  3946     5     2          7   \n",
              "11        177        8  ...        151      1005  3826    14     9         13   \n",
              "12        159        4  ...        607       748  1482    18     0          2   \n",
              "13        198        4  ...        344      1440  2680     7     1          4   \n",
              "14        185        1  ...        356       563   373    14     9          3   \n",
              "15        159        2  ...        862      1864   568    17    15         11   \n",
              "16        196        8  ...        984      1850  3554    10     9         19   \n",
              "17        121        3  ...        441       810  3752    10     2         18   \n",
              "18        101        5  ...        658       878  1835    19    13         16   \n",
              "19        121        4  ...        902      1064  2337    11     1         18   \n",
              "\n",
              "    three_g  touch_screen  wifi  price_range  \n",
              "0         0             0     1            1  \n",
              "1         1             1     0            2  \n",
              "2         1             1     0            2  \n",
              "3         1             0     0            2  \n",
              "4         1             1     0            1  \n",
              "5         1             0     0            1  \n",
              "6         1             0     1            3  \n",
              "7         1             1     1            0  \n",
              "8         1             0     0            0  \n",
              "9         1             0     0            0  \n",
              "10        0             0     0            3  \n",
              "11        1             1     1            3  \n",
              "12        1             0     0            1  \n",
              "13        1             0     1            2  \n",
              "14        1             0     1            0  \n",
              "15        1             1     1            0  \n",
              "16        1             0     1            3  \n",
              "17        1             1     0            3  \n",
              "18        1             1     0            1  \n",
              "19        0             1     1            1  \n",
              "\n",
              "[20 rows x 21 columns]"
            ],
            "text/html": [
              "\n",
              "  <div id=\"df-145a721b-640a-494b-88ef-94426e17c283\">\n",
              "    <div class=\"colab-df-container\">\n",
              "      <div>\n",
              "<style scoped>\n",
              "    .dataframe tbody tr th:only-of-type {\n",
              "        vertical-align: middle;\n",
              "    }\n",
              "\n",
              "    .dataframe tbody tr th {\n",
              "        vertical-align: top;\n",
              "    }\n",
              "\n",
              "    .dataframe thead th {\n",
              "        text-align: right;\n",
              "    }\n",
              "</style>\n",
              "<table border=\"1\" class=\"dataframe\">\n",
              "  <thead>\n",
              "    <tr style=\"text-align: right;\">\n",
              "      <th></th>\n",
              "      <th>battery_power</th>\n",
              "      <th>blue</th>\n",
              "      <th>clock_speed</th>\n",
              "      <th>dual_sim</th>\n",
              "      <th>fc</th>\n",
              "      <th>four_g</th>\n",
              "      <th>int_memory</th>\n",
              "      <th>m_dep</th>\n",
              "      <th>mobile_wt</th>\n",
              "      <th>n_cores</th>\n",
              "      <th>...</th>\n",
              "      <th>px_height</th>\n",
              "      <th>px_width</th>\n",
              "      <th>ram</th>\n",
              "      <th>sc_h</th>\n",
              "      <th>sc_w</th>\n",
              "      <th>talk_time</th>\n",
              "      <th>three_g</th>\n",
              "      <th>touch_screen</th>\n",
              "      <th>wifi</th>\n",
              "      <th>price_range</th>\n",
              "    </tr>\n",
              "  </thead>\n",
              "  <tbody>\n",
              "    <tr>\n",
              "      <th>0</th>\n",
              "      <td>842</td>\n",
              "      <td>0</td>\n",
              "      <td>2.2</td>\n",
              "      <td>0</td>\n",
              "      <td>1</td>\n",
              "      <td>0</td>\n",
              "      <td>7</td>\n",
              "      <td>0.6</td>\n",
              "      <td>188</td>\n",
              "      <td>2</td>\n",
              "      <td>...</td>\n",
              "      <td>20</td>\n",
              "      <td>756</td>\n",
              "      <td>2549</td>\n",
              "      <td>9</td>\n",
              "      <td>7</td>\n",
              "      <td>19</td>\n",
              "      <td>0</td>\n",
              "      <td>0</td>\n",
              "      <td>1</td>\n",
              "      <td>1</td>\n",
              "    </tr>\n",
              "    <tr>\n",
              "      <th>1</th>\n",
              "      <td>1021</td>\n",
              "      <td>1</td>\n",
              "      <td>0.5</td>\n",
              "      <td>1</td>\n",
              "      <td>0</td>\n",
              "      <td>1</td>\n",
              "      <td>53</td>\n",
              "      <td>0.7</td>\n",
              "      <td>136</td>\n",
              "      <td>3</td>\n",
              "      <td>...</td>\n",
              "      <td>905</td>\n",
              "      <td>1988</td>\n",
              "      <td>2631</td>\n",
              "      <td>17</td>\n",
              "      <td>3</td>\n",
              "      <td>7</td>\n",
              "      <td>1</td>\n",
              "      <td>1</td>\n",
              "      <td>0</td>\n",
              "      <td>2</td>\n",
              "    </tr>\n",
              "    <tr>\n",
              "      <th>2</th>\n",
              "      <td>563</td>\n",
              "      <td>1</td>\n",
              "      <td>0.5</td>\n",
              "      <td>1</td>\n",
              "      <td>2</td>\n",
              "      <td>1</td>\n",
              "      <td>41</td>\n",
              "      <td>0.9</td>\n",
              "      <td>145</td>\n",
              "      <td>5</td>\n",
              "      <td>...</td>\n",
              "      <td>1263</td>\n",
              "      <td>1716</td>\n",
              "      <td>2603</td>\n",
              "      <td>11</td>\n",
              "      <td>2</td>\n",
              "      <td>9</td>\n",
              "      <td>1</td>\n",
              "      <td>1</td>\n",
              "      <td>0</td>\n",
              "      <td>2</td>\n",
              "    </tr>\n",
              "    <tr>\n",
              "      <th>3</th>\n",
              "      <td>615</td>\n",
              "      <td>1</td>\n",
              "      <td>2.5</td>\n",
              "      <td>0</td>\n",
              "      <td>0</td>\n",
              "      <td>0</td>\n",
              "      <td>10</td>\n",
              "      <td>0.8</td>\n",
              "      <td>131</td>\n",
              "      <td>6</td>\n",
              "      <td>...</td>\n",
              "      <td>1216</td>\n",
              "      <td>1786</td>\n",
              "      <td>2769</td>\n",
              "      <td>16</td>\n",
              "      <td>8</td>\n",
              "      <td>11</td>\n",
              "      <td>1</td>\n",
              "      <td>0</td>\n",
              "      <td>0</td>\n",
              "      <td>2</td>\n",
              "    </tr>\n",
              "    <tr>\n",
              "      <th>4</th>\n",
              "      <td>1821</td>\n",
              "      <td>1</td>\n",
              "      <td>1.2</td>\n",
              "      <td>0</td>\n",
              "      <td>13</td>\n",
              "      <td>1</td>\n",
              "      <td>44</td>\n",
              "      <td>0.6</td>\n",
              "      <td>141</td>\n",
              "      <td>2</td>\n",
              "      <td>...</td>\n",
              "      <td>1208</td>\n",
              "      <td>1212</td>\n",
              "      <td>1411</td>\n",
              "      <td>8</td>\n",
              "      <td>2</td>\n",
              "      <td>15</td>\n",
              "      <td>1</td>\n",
              "      <td>1</td>\n",
              "      <td>0</td>\n",
              "      <td>1</td>\n",
              "    </tr>\n",
              "    <tr>\n",
              "      <th>5</th>\n",
              "      <td>1859</td>\n",
              "      <td>0</td>\n",
              "      <td>0.5</td>\n",
              "      <td>1</td>\n",
              "      <td>3</td>\n",
              "      <td>0</td>\n",
              "      <td>22</td>\n",
              "      <td>0.7</td>\n",
              "      <td>164</td>\n",
              "      <td>1</td>\n",
              "      <td>...</td>\n",
              "      <td>1004</td>\n",
              "      <td>1654</td>\n",
              "      <td>1067</td>\n",
              "      <td>17</td>\n",
              "      <td>1</td>\n",
              "      <td>10</td>\n",
              "      <td>1</td>\n",
              "      <td>0</td>\n",
              "      <td>0</td>\n",
              "      <td>1</td>\n",
              "    </tr>\n",
              "    <tr>\n",
              "      <th>6</th>\n",
              "      <td>1821</td>\n",
              "      <td>0</td>\n",
              "      <td>1.7</td>\n",
              "      <td>0</td>\n",
              "      <td>4</td>\n",
              "      <td>1</td>\n",
              "      <td>10</td>\n",
              "      <td>0.8</td>\n",
              "      <td>139</td>\n",
              "      <td>8</td>\n",
              "      <td>...</td>\n",
              "      <td>381</td>\n",
              "      <td>1018</td>\n",
              "      <td>3220</td>\n",
              "      <td>13</td>\n",
              "      <td>8</td>\n",
              "      <td>18</td>\n",
              "      <td>1</td>\n",
              "      <td>0</td>\n",
              "      <td>1</td>\n",
              "      <td>3</td>\n",
              "    </tr>\n",
              "    <tr>\n",
              "      <th>7</th>\n",
              "      <td>1954</td>\n",
              "      <td>0</td>\n",
              "      <td>0.5</td>\n",
              "      <td>1</td>\n",
              "      <td>0</td>\n",
              "      <td>0</td>\n",
              "      <td>24</td>\n",
              "      <td>0.8</td>\n",
              "      <td>187</td>\n",
              "      <td>4</td>\n",
              "      <td>...</td>\n",
              "      <td>512</td>\n",
              "      <td>1149</td>\n",
              "      <td>700</td>\n",
              "      <td>16</td>\n",
              "      <td>3</td>\n",
              "      <td>5</td>\n",
              "      <td>1</td>\n",
              "      <td>1</td>\n",
              "      <td>1</td>\n",
              "      <td>0</td>\n",
              "    </tr>\n",
              "    <tr>\n",
              "      <th>8</th>\n",
              "      <td>1445</td>\n",
              "      <td>1</td>\n",
              "      <td>0.5</td>\n",
              "      <td>0</td>\n",
              "      <td>0</td>\n",
              "      <td>0</td>\n",
              "      <td>53</td>\n",
              "      <td>0.7</td>\n",
              "      <td>174</td>\n",
              "      <td>7</td>\n",
              "      <td>...</td>\n",
              "      <td>386</td>\n",
              "      <td>836</td>\n",
              "      <td>1099</td>\n",
              "      <td>17</td>\n",
              "      <td>1</td>\n",
              "      <td>20</td>\n",
              "      <td>1</td>\n",
              "      <td>0</td>\n",
              "      <td>0</td>\n",
              "      <td>0</td>\n",
              "    </tr>\n",
              "    <tr>\n",
              "      <th>9</th>\n",
              "      <td>509</td>\n",
              "      <td>1</td>\n",
              "      <td>0.6</td>\n",
              "      <td>1</td>\n",
              "      <td>2</td>\n",
              "      <td>1</td>\n",
              "      <td>9</td>\n",
              "      <td>0.1</td>\n",
              "      <td>93</td>\n",
              "      <td>5</td>\n",
              "      <td>...</td>\n",
              "      <td>1137</td>\n",
              "      <td>1224</td>\n",
              "      <td>513</td>\n",
              "      <td>19</td>\n",
              "      <td>10</td>\n",
              "      <td>12</td>\n",
              "      <td>1</td>\n",
              "      <td>0</td>\n",
              "      <td>0</td>\n",
              "      <td>0</td>\n",
              "    </tr>\n",
              "    <tr>\n",
              "      <th>10</th>\n",
              "      <td>769</td>\n",
              "      <td>1</td>\n",
              "      <td>2.9</td>\n",
              "      <td>1</td>\n",
              "      <td>0</td>\n",
              "      <td>0</td>\n",
              "      <td>9</td>\n",
              "      <td>0.1</td>\n",
              "      <td>182</td>\n",
              "      <td>5</td>\n",
              "      <td>...</td>\n",
              "      <td>248</td>\n",
              "      <td>874</td>\n",
              "      <td>3946</td>\n",
              "      <td>5</td>\n",
              "      <td>2</td>\n",
              "      <td>7</td>\n",
              "      <td>0</td>\n",
              "      <td>0</td>\n",
              "      <td>0</td>\n",
              "      <td>3</td>\n",
              "    </tr>\n",
              "    <tr>\n",
              "      <th>11</th>\n",
              "      <td>1520</td>\n",
              "      <td>1</td>\n",
              "      <td>2.2</td>\n",
              "      <td>0</td>\n",
              "      <td>5</td>\n",
              "      <td>1</td>\n",
              "      <td>33</td>\n",
              "      <td>0.5</td>\n",
              "      <td>177</td>\n",
              "      <td>8</td>\n",
              "      <td>...</td>\n",
              "      <td>151</td>\n",
              "      <td>1005</td>\n",
              "      <td>3826</td>\n",
              "      <td>14</td>\n",
              "      <td>9</td>\n",
              "      <td>13</td>\n",
              "      <td>1</td>\n",
              "      <td>1</td>\n",
              "      <td>1</td>\n",
              "      <td>3</td>\n",
              "    </tr>\n",
              "    <tr>\n",
              "      <th>12</th>\n",
              "      <td>1815</td>\n",
              "      <td>0</td>\n",
              "      <td>2.8</td>\n",
              "      <td>0</td>\n",
              "      <td>2</td>\n",
              "      <td>0</td>\n",
              "      <td>33</td>\n",
              "      <td>0.6</td>\n",
              "      <td>159</td>\n",
              "      <td>4</td>\n",
              "      <td>...</td>\n",
              "      <td>607</td>\n",
              "      <td>748</td>\n",
              "      <td>1482</td>\n",
              "      <td>18</td>\n",
              "      <td>0</td>\n",
              "      <td>2</td>\n",
              "      <td>1</td>\n",
              "      <td>0</td>\n",
              "      <td>0</td>\n",
              "      <td>1</td>\n",
              "    </tr>\n",
              "    <tr>\n",
              "      <th>13</th>\n",
              "      <td>803</td>\n",
              "      <td>1</td>\n",
              "      <td>2.1</td>\n",
              "      <td>0</td>\n",
              "      <td>7</td>\n",
              "      <td>0</td>\n",
              "      <td>17</td>\n",
              "      <td>1.0</td>\n",
              "      <td>198</td>\n",
              "      <td>4</td>\n",
              "      <td>...</td>\n",
              "      <td>344</td>\n",
              "      <td>1440</td>\n",
              "      <td>2680</td>\n",
              "      <td>7</td>\n",
              "      <td>1</td>\n",
              "      <td>4</td>\n",
              "      <td>1</td>\n",
              "      <td>0</td>\n",
              "      <td>1</td>\n",
              "      <td>2</td>\n",
              "    </tr>\n",
              "    <tr>\n",
              "      <th>14</th>\n",
              "      <td>1866</td>\n",
              "      <td>0</td>\n",
              "      <td>0.5</td>\n",
              "      <td>0</td>\n",
              "      <td>13</td>\n",
              "      <td>1</td>\n",
              "      <td>52</td>\n",
              "      <td>0.7</td>\n",
              "      <td>185</td>\n",
              "      <td>1</td>\n",
              "      <td>...</td>\n",
              "      <td>356</td>\n",
              "      <td>563</td>\n",
              "      <td>373</td>\n",
              "      <td>14</td>\n",
              "      <td>9</td>\n",
              "      <td>3</td>\n",
              "      <td>1</td>\n",
              "      <td>0</td>\n",
              "      <td>1</td>\n",
              "      <td>0</td>\n",
              "    </tr>\n",
              "    <tr>\n",
              "      <th>15</th>\n",
              "      <td>775</td>\n",
              "      <td>0</td>\n",
              "      <td>1.0</td>\n",
              "      <td>0</td>\n",
              "      <td>3</td>\n",
              "      <td>0</td>\n",
              "      <td>46</td>\n",
              "      <td>0.7</td>\n",
              "      <td>159</td>\n",
              "      <td>2</td>\n",
              "      <td>...</td>\n",
              "      <td>862</td>\n",
              "      <td>1864</td>\n",
              "      <td>568</td>\n",
              "      <td>17</td>\n",
              "      <td>15</td>\n",
              "      <td>11</td>\n",
              "      <td>1</td>\n",
              "      <td>1</td>\n",
              "      <td>1</td>\n",
              "      <td>0</td>\n",
              "    </tr>\n",
              "    <tr>\n",
              "      <th>16</th>\n",
              "      <td>838</td>\n",
              "      <td>0</td>\n",
              "      <td>0.5</td>\n",
              "      <td>0</td>\n",
              "      <td>1</td>\n",
              "      <td>1</td>\n",
              "      <td>13</td>\n",
              "      <td>0.1</td>\n",
              "      <td>196</td>\n",
              "      <td>8</td>\n",
              "      <td>...</td>\n",
              "      <td>984</td>\n",
              "      <td>1850</td>\n",
              "      <td>3554</td>\n",
              "      <td>10</td>\n",
              "      <td>9</td>\n",
              "      <td>19</td>\n",
              "      <td>1</td>\n",
              "      <td>0</td>\n",
              "      <td>1</td>\n",
              "      <td>3</td>\n",
              "    </tr>\n",
              "    <tr>\n",
              "      <th>17</th>\n",
              "      <td>595</td>\n",
              "      <td>0</td>\n",
              "      <td>0.9</td>\n",
              "      <td>1</td>\n",
              "      <td>7</td>\n",
              "      <td>1</td>\n",
              "      <td>23</td>\n",
              "      <td>0.1</td>\n",
              "      <td>121</td>\n",
              "      <td>3</td>\n",
              "      <td>...</td>\n",
              "      <td>441</td>\n",
              "      <td>810</td>\n",
              "      <td>3752</td>\n",
              "      <td>10</td>\n",
              "      <td>2</td>\n",
              "      <td>18</td>\n",
              "      <td>1</td>\n",
              "      <td>1</td>\n",
              "      <td>0</td>\n",
              "      <td>3</td>\n",
              "    </tr>\n",
              "    <tr>\n",
              "      <th>18</th>\n",
              "      <td>1131</td>\n",
              "      <td>1</td>\n",
              "      <td>0.5</td>\n",
              "      <td>1</td>\n",
              "      <td>11</td>\n",
              "      <td>0</td>\n",
              "      <td>49</td>\n",
              "      <td>0.6</td>\n",
              "      <td>101</td>\n",
              "      <td>5</td>\n",
              "      <td>...</td>\n",
              "      <td>658</td>\n",
              "      <td>878</td>\n",
              "      <td>1835</td>\n",
              "      <td>19</td>\n",
              "      <td>13</td>\n",
              "      <td>16</td>\n",
              "      <td>1</td>\n",
              "      <td>1</td>\n",
              "      <td>0</td>\n",
              "      <td>1</td>\n",
              "    </tr>\n",
              "    <tr>\n",
              "      <th>19</th>\n",
              "      <td>682</td>\n",
              "      <td>1</td>\n",
              "      <td>0.5</td>\n",
              "      <td>0</td>\n",
              "      <td>4</td>\n",
              "      <td>0</td>\n",
              "      <td>19</td>\n",
              "      <td>1.0</td>\n",
              "      <td>121</td>\n",
              "      <td>4</td>\n",
              "      <td>...</td>\n",
              "      <td>902</td>\n",
              "      <td>1064</td>\n",
              "      <td>2337</td>\n",
              "      <td>11</td>\n",
              "      <td>1</td>\n",
              "      <td>18</td>\n",
              "      <td>0</td>\n",
              "      <td>1</td>\n",
              "      <td>1</td>\n",
              "      <td>1</td>\n",
              "    </tr>\n",
              "  </tbody>\n",
              "</table>\n",
              "<p>20 rows × 21 columns</p>\n",
              "</div>\n",
              "      <button class=\"colab-df-convert\" onclick=\"convertToInteractive('df-145a721b-640a-494b-88ef-94426e17c283')\"\n",
              "              title=\"Convert this dataframe to an interactive table.\"\n",
              "              style=\"display:none;\">\n",
              "        \n",
              "  <svg xmlns=\"http://www.w3.org/2000/svg\" height=\"24px\"viewBox=\"0 0 24 24\"\n",
              "       width=\"24px\">\n",
              "    <path d=\"M0 0h24v24H0V0z\" fill=\"none\"/>\n",
              "    <path d=\"M18.56 5.44l.94 2.06.94-2.06 2.06-.94-2.06-.94-.94-2.06-.94 2.06-2.06.94zm-11 1L8.5 8.5l.94-2.06 2.06-.94-2.06-.94L8.5 2.5l-.94 2.06-2.06.94zm10 10l.94 2.06.94-2.06 2.06-.94-2.06-.94-.94-2.06-.94 2.06-2.06.94z\"/><path d=\"M17.41 7.96l-1.37-1.37c-.4-.4-.92-.59-1.43-.59-.52 0-1.04.2-1.43.59L10.3 9.45l-7.72 7.72c-.78.78-.78 2.05 0 2.83L4 21.41c.39.39.9.59 1.41.59.51 0 1.02-.2 1.41-.59l7.78-7.78 2.81-2.81c.8-.78.8-2.07 0-2.86zM5.41 20L4 18.59l7.72-7.72 1.47 1.35L5.41 20z\"/>\n",
              "  </svg>\n",
              "      </button>\n",
              "      \n",
              "  <style>\n",
              "    .colab-df-container {\n",
              "      display:flex;\n",
              "      flex-wrap:wrap;\n",
              "      gap: 12px;\n",
              "    }\n",
              "\n",
              "    .colab-df-convert {\n",
              "      background-color: #E8F0FE;\n",
              "      border: none;\n",
              "      border-radius: 50%;\n",
              "      cursor: pointer;\n",
              "      display: none;\n",
              "      fill: #1967D2;\n",
              "      height: 32px;\n",
              "      padding: 0 0 0 0;\n",
              "      width: 32px;\n",
              "    }\n",
              "\n",
              "    .colab-df-convert:hover {\n",
              "      background-color: #E2EBFA;\n",
              "      box-shadow: 0px 1px 2px rgba(60, 64, 67, 0.3), 0px 1px 3px 1px rgba(60, 64, 67, 0.15);\n",
              "      fill: #174EA6;\n",
              "    }\n",
              "\n",
              "    [theme=dark] .colab-df-convert {\n",
              "      background-color: #3B4455;\n",
              "      fill: #D2E3FC;\n",
              "    }\n",
              "\n",
              "    [theme=dark] .colab-df-convert:hover {\n",
              "      background-color: #434B5C;\n",
              "      box-shadow: 0px 1px 3px 1px rgba(0, 0, 0, 0.15);\n",
              "      filter: drop-shadow(0px 1px 2px rgba(0, 0, 0, 0.3));\n",
              "      fill: #FFFFFF;\n",
              "    }\n",
              "  </style>\n",
              "\n",
              "      <script>\n",
              "        const buttonEl =\n",
              "          document.querySelector('#df-145a721b-640a-494b-88ef-94426e17c283 button.colab-df-convert');\n",
              "        buttonEl.style.display =\n",
              "          google.colab.kernel.accessAllowed ? 'block' : 'none';\n",
              "\n",
              "        async function convertToInteractive(key) {\n",
              "          const element = document.querySelector('#df-145a721b-640a-494b-88ef-94426e17c283');\n",
              "          const dataTable =\n",
              "            await google.colab.kernel.invokeFunction('convertToInteractive',\n",
              "                                                     [key], {});\n",
              "          if (!dataTable) return;\n",
              "\n",
              "          const docLinkHtml = 'Like what you see? Visit the ' +\n",
              "            '<a target=\"_blank\" href=https://colab.research.google.com/notebooks/data_table.ipynb>data table notebook</a>'\n",
              "            + ' to learn more about interactive tables.';\n",
              "          element.innerHTML = '';\n",
              "          dataTable['output_type'] = 'display_data';\n",
              "          await google.colab.output.renderOutput(dataTable, element);\n",
              "          const docLink = document.createElement('div');\n",
              "          docLink.innerHTML = docLinkHtml;\n",
              "          element.appendChild(docLink);\n",
              "        }\n",
              "      </script>\n",
              "    </div>\n",
              "  </div>\n",
              "  "
            ]
          },
          "metadata": {},
          "execution_count": 11
        }
      ],
      "source": [
        "df.head(20)"
      ]
    },
    {
      "cell_type": "markdown",
      "metadata": {
        "id": "0sF0RgrRPLzy"
      },
      "source": [
        "### Variables Description "
      ]
    },
    {
      "cell_type": "markdown",
      "metadata": {
        "id": "xVDFgrd_PRe2"
      },
      "source": [
        "**Batterry_power**  -->  Battery capacity in mAh.                                                                   \n",
        "**Blue**   -->  Has bluetooth or not\n",
        "\n",
        "**Clock_speed**  -->  Speed at which microprocessor exiccute instructins\n",
        "\n",
        "**Dule_sim**  -->  Has dule sim or not\n",
        "\n",
        "**Fc**  -->  Front camera megapixels\n",
        "\n",
        "**Four_g**  -->  Has 4g or not\n",
        "\n",
        "**Int_memory**  -->  Internal memory  Capacity\n",
        "\n",
        "**M_deep**  -->  Mobile depth in cm\n",
        "\n",
        "**Mobile_wt**  -->  weight of mobiles phone\n",
        "\n",
        "**N_crores**  -->  no of cores in processor\n",
        "\n",
        "**Pc**  -->  Primary camera pixels\n",
        "\n",
        "**Px_width**  -->  Pixel resolution width\n",
        "\n",
        "**Px_hight**  -->  pixel resolution height\n",
        "\n",
        "**Ram**  -->  Random access memory in MB\n",
        "\n",
        "**Sc_w**  -->  Screen width\n",
        "\n",
        "**Talk_time**  -->  Longest that a single batteryy can last over a call\n",
        "\n",
        "**Three_g**  -->  Has 3g or not\n",
        "\n",
        "**Wifi**  -->  has wifi or not\n",
        "\n",
        "**Price_range**  -->  This is the target variables with a value of 0(low cost)1(medium cost)2(high cost)3(very high cost)"
      ]
    },
    {
      "cell_type": "code",
      "execution_count": 12,
      "metadata": {
        "colab": {
          "base_uri": "https://localhost:8080/"
        },
        "id": "P9pCdxy-OoMi",
        "outputId": "b3fb2fcc-750c-452a-d5c3-4a07753a5917"
      },
      "outputs": [
        {
          "output_type": "stream",
          "name": "stdout",
          "text": [
            "Unique values for battery_power: [ 842 1021  563 ... 1139 1467  858]\n",
            "Unique values for blue: [0 1]\n",
            "Unique values for clock_speed: [2.2 0.5 2.5 1.2 1.7 0.6 2.9 2.8 2.1 1.  0.9 1.1 2.6 1.4 1.6 2.7 1.3 2.3\n",
            " 2.  1.8 3.  1.5 1.9 2.4 0.8 0.7]\n",
            "Unique values for dual_sim: [0 1]\n",
            "Unique values for fc: [ 1  0  2 13  3  4  5  7 11 12 16  6 15  8  9 10 18 17 14 19]\n",
            "Unique values for four_g: [0 1]\n",
            "Unique values for int_memory: [ 7 53 41 10 44 22 24  9 33 17 52 46 13 23 49 19 39 47 38  8 57 51 21  5\n",
            " 60 61  6 11 50 34 20 27 42 40 64 14 63 43 16 48 12 55 36 30 45 29 58 25\n",
            "  3 54 15 37 31 32  4 18  2 56 26 35 59 28 62]\n",
            "Unique values for m_dep: [0.6 0.7 0.9 0.8 0.1 0.5 1.  0.3 0.4 0.2]\n",
            "Unique values for mobile_wt: [188 136 145 131 141 164 139 187 174  93 182 177 159 198 185 196 121 101\n",
            "  81 156 199 114 111 132 143  96 200  88 150 107 100 157 160 119  87 152\n",
            " 166 110 118 162 127 109 102 104 148 180 128 134 144 168 155 165  80 138\n",
            " 142  90 197 172 116  85 163 178 171 103  83 140 194 146 192 106 135 153\n",
            "  89  82 130 189 181  99 184 195 108 133 179 147 137 190 176  84  97 124\n",
            " 183 113  92  95 151 117  94 173 105 115  91 112 123 129 154 191 175  86\n",
            "  98 125 126 158 170 161 193 169 120 149 186 122 167]\n",
            "Unique values for n_cores: [2 3 5 6 1 8 4 7]\n",
            "Unique values for pc: [ 2  6  9 14  7 10  0 15  1 18 17 11 16  4 20 13  3 19  8  5 12]\n",
            "Unique values for px_height: [  20  905 1263 ...  528  915  483]\n",
            "Unique values for px_width: [ 756 1988 1716 ...  743 1890 1632]\n",
            "Unique values for ram: [2549 2631 2603 ... 2032 3057 3919]\n",
            "Unique values for sc_h: [ 9 17 11 16  8 13 19  5 14 18  7 10 12  6 15]\n",
            "Unique values for sc_w: [ 7  3  2  8  1 10  9  0 15 13  5 11  4 12  6 17 14 16 18]\n",
            "Unique values for talk_time: [19  7  9 11 15 10 18  5 20 12 13  2  4  3 16  6 14 17  8]\n",
            "Unique values for three_g: [0 1]\n",
            "Unique values for touch_screen: [0 1]\n",
            "Unique values for wifi: [1 0]\n",
            "Unique values for price_range: [1 2 3 0]\n"
          ]
        }
      ],
      "source": [
        "# Check Unique Values for each variable.\n",
        "for i in df:\n",
        "  print(f'Unique values for {i}: {df[i].unique()}')"
      ]
    },
    {
      "cell_type": "markdown",
      "metadata": {
        "id": "47Uz4-pTPxk3"
      },
      "source": [
        "## ***Data Wrangling***"
      ]
    },
    {
      "cell_type": "code",
      "execution_count": 13,
      "metadata": {
        "colab": {
          "base_uri": "https://localhost:8080/",
          "height": 796
        },
        "id": "w5CJOfbTMhN9",
        "outputId": "120d8003-66f9-4d07-f166-6737ca57f8e7"
      },
      "outputs": [
        {
          "output_type": "execute_result",
          "data": {
            "text/plain": [
              "Text(0.5, 1.0, 'Correlation of Attirubtues')"
            ]
          },
          "metadata": {},
          "execution_count": 13
        },
        {
          "output_type": "display_data",
          "data": {
            "text/plain": [
              "<Figure size 1440x864 with 2 Axes>"
            ],
            "image/png": "[encoded data removed]"
          },
          "metadata": {
            "needs_background": "light"
          }
        }
      ],
      "source": [
        "# Compute the correlation matrix\n",
        "corr = df.corr()\n",
        "# Set up the matplotlib figure\n",
        "plt.figure(figsize=(20,12))\n",
        "# Draw the heatmap with the mask and correct aspect ratio\n",
        "\n",
        "sns.heatmap(corr,annot = True )\n",
        "plt.title(\"Correlation of Attirubtues\")"
      ]
    },
    {
      "cell_type": "markdown",
      "metadata": {
        "id": "hmQOxYn3sWac"
      },
      "source": [
        "In this emage we clearly show the relation between the variables. According to this grapg we show the 58% relationship between the four_g and the three_g, so we add both columns and make a new columns phone_g and drop the columns four_g and three_g. similarly we multiply the px_width and the px_hight and make new column px_length and then drop the both columns. and similary we creat the new columns screen_size from the sc_w andsc_h and then we remove the sc_w and sc_h.\n"
      ]
    },
    {
      "cell_type": "code",
      "execution_count": 14,
      "metadata": {
        "id": "KdIG5tXoMhLU"
      },
      "outputs": [],
      "source": [
        "# we combine the pixcel resolution\n",
        "df['px_length'] = df['px_height']*df['px_width']"
      ]
    },
    {
      "cell_type": "code",
      "execution_count": 15,
      "metadata": {
        "id": "dQCS3ukAMhIw"
      },
      "outputs": [],
      "source": [
        "#we drop the columns \n",
        "df.drop(['px_height','px_width'], axis = 1, inplace=True)"
      ]
    },
    {
      "cell_type": "code",
      "execution_count": 16,
      "metadata": {
        "id": "SerpSZvIMdy8"
      },
      "outputs": [],
      "source": [
        "df['phone_g'] = df['four_g']+df['three_g']"
      ]
    },
    {
      "cell_type": "code",
      "execution_count": 17,
      "metadata": {
        "colab": {
          "base_uri": "https://localhost:8080/"
        },
        "id": "tuscyYHGQMHt",
        "outputId": "7b0ab0b8-8fea-4606-dd7a-d91963a51557"
      },
      "outputs": [
        {
          "output_type": "execute_result",
          "data": {
            "text/plain": [
              "2000"
            ]
          },
          "metadata": {},
          "execution_count": 17
        }
      ],
      "source": [
        "len(df['phone_g'])"
      ]
    },
    {
      "cell_type": "code",
      "execution_count": 18,
      "metadata": {
        "id": "mPInlUT9QOGx"
      },
      "outputs": [],
      "source": [
        "# we drop the columns \n",
        "df.drop(['four_g', 'three_g'] , axis = 1, inplace=True)"
      ]
    },
    {
      "cell_type": "code",
      "execution_count": 19,
      "metadata": {
        "id": "tKkSBfG8T18c"
      },
      "outputs": [],
      "source": [
        "# creat new columns \n",
        "df['screen_size'] =df['sc_h']*df['sc_w'] "
      ]
    },
    {
      "cell_type": "code",
      "execution_count": 20,
      "metadata": {
        "id": "pZ5a70JzT14B"
      },
      "outputs": [],
      "source": [
        "# drop the sc_h and sc_w\n",
        "df.drop(['sc_w','sc_h'], axis = 1, inplace = True)"
      ]
    },
    {
      "cell_type": "markdown",
      "metadata": {
        "id": "1Q8ElYHuRZnm"
      },
      "source": [
        "## ***4. Data Vizualization, Storytelling & Experimenting with charts : Understand the relationships between variables***"
      ]
    },
    {
      "cell_type": "code",
      "execution_count": 21,
      "metadata": {
        "colab": {
          "base_uri": "https://localhost:8080/",
          "height": 266
        },
        "id": "XmRLOOZDRhY4",
        "outputId": "9e7bdc93-8e66-49ec-b03a-fd3ba800e642"
      },
      "outputs": [
        {
          "output_type": "execute_result",
          "data": {
            "text/plain": [
              "<matplotlib.axes._subplots.AxesSubplot at 0x7f880c74d3a0>"
            ]
          },
          "metadata": {},
          "execution_count": 21
        },
        {
          "output_type": "display_data",
          "data": {
            "text/plain": [
              "<Figure size 432x288 with 1 Axes>"
            ],
            "image/png": "[encoded data removed]"
          },
          "metadata": {}
        }
      ],
      "source": [
        "Bluetooth = df['blue'].value_counts()\n",
        "Bluetooth.plot.pie(autopct='%1.1f%%')\n"
      ]
    },
    {
      "cell_type": "markdown",
      "metadata": {
        "id": "fyrXTOqpR1IG"
      },
      "source": [
        "In this pie plot we sow that half of the phone dont have the blutooth there are 50.5% phones have bluetooth and 49.5% phones are bluetooth less"
      ]
    },
    {
      "cell_type": "code",
      "execution_count": 22,
      "metadata": {
        "colab": {
          "base_uri": "https://localhost:8080/",
          "height": 266
        },
        "id": "Aac4AAyWRhVS",
        "outputId": "800dbf4b-1e06-4e33-88b8-6c3d0ed0877f"
      },
      "outputs": [
        {
          "output_type": "execute_result",
          "data": {
            "text/plain": [
              "<matplotlib.axes._subplots.AxesSubplot at 0x7f880af20910>"
            ]
          },
          "metadata": {},
          "execution_count": 22
        },
        {
          "output_type": "display_data",
          "data": {
            "text/plain": [
              "<Figure size 432x288 with 1 Axes>"
            ],
            "image/png": "[encoded data removed]"
          },
          "metadata": {}
        }
      ],
      "source": [
        "# Chart - 2 visualization code\n",
        "df['clock_speed'].value_counts().plot.pie(autopct='%1.1f%%')\n"
      ]
    },
    {
      "cell_type": "markdown",
      "metadata": {
        "id": "m-9G7j0cxzOg"
      },
      "source": [
        "In this pie chart we shoe the major phones have the 0.5 clock speed , it means that the 0.5 clock speed are mostly used in the phones"
      ]
    },
    {
      "cell_type": "markdown",
      "metadata": {
        "id": "sGznJ2AQR3sb"
      },
      "source": []
    },
    {
      "cell_type": "code",
      "execution_count": 23,
      "metadata": {
        "colab": {
          "base_uri": "https://localhost:8080/",
          "height": 266
        },
        "id": "tpju4cYVRhST",
        "outputId": "f0b7dd83-12f1-46b7-bb22-e0a50a963f19"
      },
      "outputs": [
        {
          "output_type": "execute_result",
          "data": {
            "text/plain": [
              "<matplotlib.axes._subplots.AxesSubplot at 0x7f880c758a90>"
            ]
          },
          "metadata": {},
          "execution_count": 23
        },
        {
          "output_type": "display_data",
          "data": {
            "text/plain": [
              "<Figure size 432x288 with 1 Axes>"
            ],
            "image/png": "[encoded data removed]"
          },
          "metadata": {}
        }
      ],
      "source": [
        "# Chart - 3 visualization code\n",
        "df['dual_sim'].value_counts().plot.pie(autopct = '%1.1f%%')"
      ]
    },
    {
      "cell_type": "markdown",
      "metadata": {
        "id": "FKmFERskyOd3"
      },
      "source": [
        "accordin to this chart 51% phone have dual sim support and 49% pjones are single sim supportr"
      ]
    },
    {
      "cell_type": "code",
      "execution_count": 24,
      "metadata": {
        "colab": {
          "base_uri": "https://localhost:8080/",
          "height": 266
        },
        "id": "ukzTxnaJRhQI",
        "outputId": "71d82c5b-b4fd-4dfc-cdee-c4c330854eb7"
      },
      "outputs": [
        {
          "output_type": "execute_result",
          "data": {
            "text/plain": [
              "<matplotlib.axes._subplots.AxesSubplot at 0x7f880ae118e0>"
            ]
          },
          "metadata": {},
          "execution_count": 24
        },
        {
          "output_type": "display_data",
          "data": {
            "text/plain": [
              "<Figure size 432x288 with 1 Axes>"
            ],
            "image/png": "[encoded data removed]"
          },
          "metadata": {}
        }
      ],
      "source": [
        "# Chart - 4 visualization code\n",
        "df['m_dep'].value_counts().plot.pie(autopct = '%1.1f%%')"
      ]
    },
    {
      "cell_type": "code",
      "execution_count": 25,
      "metadata": {
        "colab": {
          "base_uri": "https://localhost:8080/",
          "height": 298
        },
        "id": "8wgLktTlRhOa",
        "outputId": "9bfba0d2-b445-4fd8-de35-7431a247bb2b"
      },
      "outputs": [
        {
          "output_type": "execute_result",
          "data": {
            "text/plain": [
              "<matplotlib.axes._subplots.AxesSubplot at 0x7f880cc390a0>"
            ]
          },
          "metadata": {},
          "execution_count": 25
        },
        {
          "output_type": "display_data",
          "data": {
            "text/plain": [
              "<Figure size 432x288 with 1 Axes>"
            ],
            "image/png": "[encoded data removed]"
          },
          "metadata": {
            "needs_background": "light"
          }
        }
      ],
      "source": [
        "# Chart - 6 visualization code\n",
        "sns.lineplot(x='price_range',y='int_memory', data = df)"
      ]
    },
    {
      "cell_type": "markdown",
      "metadata": {
        "id": "ZerPJUZOyija"
      },
      "source": [
        "In this chart we can show price range 1 and thre "
      ]
    },
    {
      "cell_type": "code",
      "execution_count": 26,
      "metadata": {
        "colab": {
          "base_uri": "https://localhost:8080/",
          "height": 81
        },
        "id": "dwtyY1GIzJHa",
        "outputId": "c402f297-3e3d-42ac-8dcd-304c147d7aba"
      },
      "outputs": [
        {
          "output_type": "execute_result",
          "data": {
            "text/plain": [
              "   battery_power  blue  clock_speed  dual_sim  fc  int_memory  m_dep  \\\n",
              "0            842     0          2.2         0   1           7    0.6   \n",
              "\n",
              "   mobile_wt  n_cores  pc   ram  talk_time  touch_screen  wifi  price_range  \\\n",
              "0        188        2   2  2549         19             0     1            1   \n",
              "\n",
              "   px_length  phone_g  screen_size  \n",
              "0      15120        0           63  "
            ],
            "text/html": [
              "\n",
              "  <div id=\"df-e7f42d3c-01e0-4b24-b4f5-2c827cf853f8\">\n",
              "    <div class=\"colab-df-container\">\n",
              "      <div>\n",
              "<style scoped>\n",
              "    .dataframe tbody tr th:only-of-type {\n",
              "        vertical-align: middle;\n",
              "    }\n",
              "\n",
              "    .dataframe tbody tr th {\n",
              "        vertical-align: top;\n",
              "    }\n",
              "\n",
              "    .dataframe thead th {\n",
              "        text-align: right;\n",
              "    }\n",
              "</style>\n",
              "<table border=\"1\" class=\"dataframe\">\n",
              "  <thead>\n",
              "    <tr style=\"text-align: right;\">\n",
              "      <th></th>\n",
              "      <th>battery_power</th>\n",
              "      <th>blue</th>\n",
              "      <th>clock_speed</th>\n",
              "      <th>dual_sim</th>\n",
              "      <th>fc</th>\n",
              "      <th>int_memory</th>\n",
              "      <th>m_dep</th>\n",
              "      <th>mobile_wt</th>\n",
              "      <th>n_cores</th>\n",
              "      <th>pc</th>\n",
              "      <th>ram</th>\n",
              "      <th>talk_time</th>\n",
              "      <th>touch_screen</th>\n",
              "      <th>wifi</th>\n",
              "      <th>price_range</th>\n",
              "      <th>px_length</th>\n",
              "      <th>phone_g</th>\n",
              "      <th>screen_size</th>\n",
              "    </tr>\n",
              "  </thead>\n",
              "  <tbody>\n",
              "    <tr>\n",
              "      <th>0</th>\n",
              "      <td>842</td>\n",
              "      <td>0</td>\n",
              "      <td>2.2</td>\n",
              "      <td>0</td>\n",
              "      <td>1</td>\n",
              "      <td>7</td>\n",
              "      <td>0.6</td>\n",
              "      <td>188</td>\n",
              "      <td>2</td>\n",
              "      <td>2</td>\n",
              "      <td>2549</td>\n",
              "      <td>19</td>\n",
              "      <td>0</td>\n",
              "      <td>1</td>\n",
              "      <td>1</td>\n",
              "      <td>15120</td>\n",
              "      <td>0</td>\n",
              "      <td>63</td>\n",
              "    </tr>\n",
              "  </tbody>\n",
              "</table>\n",
              "</div>\n",
              "      <button class=\"colab-df-convert\" onclick=\"convertToInteractive('df-e7f42d3c-01e0-4b24-b4f5-2c827cf853f8')\"\n",
              "              title=\"Convert this dataframe to an interactive table.\"\n",
              "              style=\"display:none;\">\n",
              "        \n",
              "  <svg xmlns=\"http://www.w3.org/2000/svg\" height=\"24px\"viewBox=\"0 0 24 24\"\n",
              "       width=\"24px\">\n",
              "    <path d=\"M0 0h24v24H0V0z\" fill=\"none\"/>\n",
              "    <path d=\"M18.56 5.44l.94 2.06.94-2.06 2.06-.94-2.06-.94-.94-2.06-.94 2.06-2.06.94zm-11 1L8.5 8.5l.94-2.06 2.06-.94-2.06-.94L8.5 2.5l-.94 2.06-2.06.94zm10 10l.94 2.06.94-2.06 2.06-.94-2.06-.94-.94-2.06-.94 2.06-2.06.94z\"/><path d=\"M17.41 7.96l-1.37-1.37c-.4-.4-.92-.59-1.43-.59-.52 0-1.04.2-1.43.59L10.3 9.45l-7.72 7.72c-.78.78-.78 2.05 0 2.83L4 21.41c.39.39.9.59 1.41.59.51 0 1.02-.2 1.41-.59l7.78-7.78 2.81-2.81c.8-.78.8-2.07 0-2.86zM5.41 20L4 18.59l7.72-7.72 1.47 1.35L5.41 20z\"/>\n",
              "  </svg>\n",
              "      </button>\n",
              "      \n",
              "  <style>\n",
              "    .colab-df-container {\n",
              "      display:flex;\n",
              "      flex-wrap:wrap;\n",
              "      gap: 12px;\n",
              "    }\n",
              "\n",
              "    .colab-df-convert {\n",
              "      background-color: #E8F0FE;\n",
              "      border: none;\n",
              "      border-radius: 50%;\n",
              "      cursor: pointer;\n",
              "      display: none;\n",
              "      fill: #1967D2;\n",
              "      height: 32px;\n",
              "      padding: 0 0 0 0;\n",
              "      width: 32px;\n",
              "    }\n",
              "\n",
              "    .colab-df-convert:hover {\n",
              "      background-color: #E2EBFA;\n",
              "      box-shadow: 0px 1px 2px rgba(60, 64, 67, 0.3), 0px 1px 3px 1px rgba(60, 64, 67, 0.15);\n",
              "      fill: #174EA6;\n",
              "    }\n",
              "\n",
              "    [theme=dark] .colab-df-convert {\n",
              "      background-color: #3B4455;\n",
              "      fill: #D2E3FC;\n",
              "    }\n",
              "\n",
              "    [theme=dark] .colab-df-convert:hover {\n",
              "      background-color: #434B5C;\n",
              "      box-shadow: 0px 1px 3px 1px rgba(0, 0, 0, 0.15);\n",
              "      filter: drop-shadow(0px 1px 2px rgba(0, 0, 0, 0.3));\n",
              "      fill: #FFFFFF;\n",
              "    }\n",
              "  </style>\n",
              "\n",
              "      <script>\n",
              "        const buttonEl =\n",
              "          document.querySelector('#df-e7f42d3c-01e0-4b24-b4f5-2c827cf853f8 button.colab-df-convert');\n",
              "        buttonEl.style.display =\n",
              "          google.colab.kernel.accessAllowed ? 'block' : 'none';\n",
              "\n",
              "        async function convertToInteractive(key) {\n",
              "          const element = document.querySelector('#df-e7f42d3c-01e0-4b24-b4f5-2c827cf853f8');\n",
              "          const dataTable =\n",
              "            await google.colab.kernel.invokeFunction('convertToInteractive',\n",
              "                                                     [key], {});\n",
              "          if (!dataTable) return;\n",
              "\n",
              "          const docLinkHtml = 'Like what you see? Visit the ' +\n",
              "            '<a target=\"_blank\" href=https://colab.research.google.com/notebooks/data_table.ipynb>data table notebook</a>'\n",
              "            + ' to learn more about interactive tables.';\n",
              "          element.innerHTML = '';\n",
              "          dataTable['output_type'] = 'display_data';\n",
              "          await google.colab.output.renderOutput(dataTable, element);\n",
              "          const docLink = document.createElement('div');\n",
              "          docLink.innerHTML = docLinkHtml;\n",
              "          element.appendChild(docLink);\n",
              "        }\n",
              "      </script>\n",
              "    </div>\n",
              "  </div>\n",
              "  "
            ]
          },
          "metadata": {},
          "execution_count": 26
        }
      ],
      "source": [
        "df.head(1)"
      ]
    },
    {
      "cell_type": "code",
      "execution_count": 27,
      "metadata": {
        "colab": {
          "base_uri": "https://localhost:8080/",
          "height": 516
        },
        "id": "FK8jt9fmRhMf",
        "outputId": "8dc9099b-c568-4329-b594-bafde142c34d"
      },
      "outputs": [
        {
          "output_type": "execute_result",
          "data": {
            "text/plain": [
              "<matplotlib.axes._subplots.AxesSubplot at 0x7f880f8b9d90>"
            ]
          },
          "metadata": {},
          "execution_count": 27
        },
        {
          "output_type": "display_data",
          "data": {
            "text/plain": [
              "<Figure size 1440x576 with 1 Axes>"
            ],
            "image/png": "[encoded data removed]"
          },
          "metadata": {
            "needs_background": "light"
          }
        }
      ],
      "source": [
        "# Chart - 7 visualization code\n",
        "plt.figure(figsize=(20,8))\n",
        "sns.lineplot(y='battery_power',x= 'talk_time', data = df)\n"
      ]
    },
    {
      "cell_type": "code",
      "execution_count": 28,
      "metadata": {
        "colab": {
          "base_uri": "https://localhost:8080/",
          "height": 353
        },
        "id": "Xb9V5hFhRhKX",
        "outputId": "c973dcae-08d4-47ed-9616-4f4a7badebf6"
      },
      "outputs": [
        {
          "output_type": "execute_result",
          "data": {
            "text/plain": [
              "<matplotlib.axes._subplots.AxesSubplot at 0x7f880ac734c0>"
            ]
          },
          "metadata": {},
          "execution_count": 28
        },
        {
          "output_type": "display_data",
          "data": {
            "text/plain": [
              "<Figure size 720x360 with 1 Axes>"
            ],
            "image/png": "[encoded data removed]"
          },
          "metadata": {
            "needs_background": "light"
          }
        }
      ],
      "source": [
        "# Chart - 8 visualization code\n",
        "plt.figure(figsize = (10,5))\n",
        "sns.barplot(x='price_range',y='ram', data = df)\n"
      ]
    },
    {
      "cell_type": "markdown",
      "metadata": {
        "id": "awFeitT81or0"
      },
      "source": [
        "in this chart we show that price range and ram have lineare corilation ram will increase if we increas the ram"
      ]
    },
    {
      "cell_type": "code",
      "execution_count": 29,
      "metadata": {
        "colab": {
          "base_uri": "https://localhost:8080/",
          "height": 298
        },
        "id": "o_qGor16RhIy",
        "outputId": "6158b089-c4cc-4910-98e2-9d7f9aa7b5f2"
      },
      "outputs": [
        {
          "output_type": "execute_result",
          "data": {
            "text/plain": [
              "<matplotlib.axes._subplots.AxesSubplot at 0x7f880ac6aaf0>"
            ]
          },
          "metadata": {},
          "execution_count": 29
        },
        {
          "output_type": "display_data",
          "data": {
            "text/plain": [
              "<Figure size 432x288 with 1 Axes>"
            ],
            "image/png": "[encoded data removed]"
          },
          "metadata": {
            "needs_background": "light"
          }
        }
      ],
      "source": [
        "# Chart - 10 visualization code\n",
        "sns.barplot(x='price_range',y= 'battery_power', data=df)"
      ]
    },
    {
      "cell_type": "markdown",
      "metadata": {
        "id": "jyRvJgRu2YOG"
      },
      "source": [
        "In this graph we show that battry power increase with the increasing in price range"
      ]
    },
    {
      "cell_type": "code",
      "execution_count": 30,
      "metadata": {
        "colab": {
          "base_uri": "https://localhost:8080/",
          "height": 298
        },
        "id": "mpZemnmbTO-E",
        "outputId": "d048ed41-1646-44d9-dfa0-caa471e16ec3"
      },
      "outputs": [
        {
          "output_type": "execute_result",
          "data": {
            "text/plain": [
              "<matplotlib.axes._subplots.AxesSubplot at 0x7f880cf4c3a0>"
            ]
          },
          "metadata": {},
          "execution_count": 30
        },
        {
          "output_type": "display_data",
          "data": {
            "text/plain": [
              "<Figure size 432x288 with 1 Axes>"
            ],
            "image/png": "[encoded data removed]"
          },
          "metadata": {
            "needs_background": "light"
          }
        }
      ],
      "source": [
        "# Chart - 11 visualization code\n",
        "sns.lineplot( x='price_range', y='screen_size', data = df)"
      ]
    },
    {
      "cell_type": "markdown",
      "metadata": {
        "id": "aHSO4JIH2n1y"
      },
      "source": [
        "In this line chart we clearly see that the scrfeen size is increase with the price range"
      ]
    },
    {
      "cell_type": "markdown",
      "metadata": {
        "id": "E8gN0VGaUk4I"
      },
      "source": [
        "## we drow the boxplot for finding the outliers\n"
      ]
    },
    {
      "cell_type": "code",
      "execution_count": 31,
      "metadata": {
        "colab": {
          "base_uri": "https://localhost:8080/",
          "height": 298
        },
        "id": "SeAAYwkOQQOg",
        "outputId": "c7ea3d96-e0b2-4b51-b6b0-bca434e5521a"
      },
      "outputs": [
        {
          "output_type": "execute_result",
          "data": {
            "text/plain": [
              "<matplotlib.axes._subplots.AxesSubplot at 0x7f880ad09d00>"
            ]
          },
          "metadata": {},
          "execution_count": 31
        },
        {
          "output_type": "display_data",
          "data": {
            "text/plain": [
              "<Figure size 432x288 with 1 Axes>"
            ],
            "image/png": "[encoded data removed]"
          },
          "metadata": {
            "needs_background": "light"
          }
        }
      ],
      "source": [
        "sns.boxplot(x ='screen_size',data=df)"
      ]
    },
    {
      "cell_type": "markdown",
      "metadata": {
        "id": "bxRC0G983wUi"
      },
      "source": [
        "We drow the boxplot to finde the outliers and we found some outlier after the 270 according to this chart"
      ]
    },
    {
      "cell_type": "code",
      "execution_count": 32,
      "metadata": {
        "colab": {
          "base_uri": "https://localhost:8080/",
          "height": 303
        },
        "id": "bphOrgatTNr-",
        "outputId": "5957d534-d39d-4b1a-f140-49fc33874127"
      },
      "outputs": [
        {
          "output_type": "execute_result",
          "data": {
            "text/plain": [
              "<matplotlib.axes._subplots.AxesSubplot at 0x7f880ab41a00>"
            ]
          },
          "metadata": {},
          "execution_count": 32
        },
        {
          "output_type": "display_data",
          "data": {
            "text/plain": [
              "<Figure size 432x288 with 1 Axes>"
            ],
            "image/png": "[encoded data removed]"
          },
          "metadata": {}
        }
      ],
      "source": [
        "sns.set(rc = {'figure.figsize':(6,4)})\n",
        "sns.boxplot(x ='px_length',data=df)"
      ]
    },
    {
      "cell_type": "markdown",
      "metadata": {
        "id": "MEu4Qnzw4Egt"
      },
      "source": [
        "In this box plot we see that some outlier are finds after the 3.0 px_length"
      ]
    },
    {
      "cell_type": "markdown",
      "metadata": {
        "id": "7iqklQbU4VpF"
      },
      "source": [
        "# **Conclusion**"
      ]
    },
    {
      "cell_type": "markdown",
      "metadata": {
        "id": "L8gpomCR4W42"
      },
      "source": [
        "We performe the some Data warlings with data set and do the graphical persantation with the data set to find out the relationship between the columns or features.\n",
        "\n",
        "We create and deleate some columns in this data set for make the data more clear and easy to understasnd.\n",
        "\n",
        "There are half phones have bluetooth and most usable clock speed is 0.5, 20% phone are using the 0.5 clock speed.\n",
        "\n",
        "Half of the phone are dual sim operator and half of single sim supported. and also we shoe that if we increase the size of battery power it increase the talk time but there are another relation we finde them is if the battery power same in touch and keypad pone, but the talk time of touch is less then the keypad couse of touch screen is bigger and use more battery power.\n",
        "\n",
        "Ram is increase according to the price range price range 3 have more ram then other and price range 2 have less rem then price rnge 3 and the more ram then price range 1. and so on . and screen size have positive relation with price range. it increasing according to the price range.we found the some outlier also\n",
        "\n",
        "\n",
        "\n",
        "\n"
      ]
    },
    {
      "cell_type": "markdown",
      "metadata": {
        "id": "NIIIzELG7Yhz"
      },
      "source": [
        "#**train and test split**"
      ]
    },
    {
      "cell_type": "code",
      "execution_count": 33,
      "metadata": {
        "id": "IYnEVhGeU3_S"
      },
      "outputs": [],
      "source": [
        "X = df.drop(['price_range'],axis=1)"
      ]
    },
    {
      "cell_type": "code",
      "execution_count": 34,
      "metadata": {
        "id": "3E3B-9EU_hE1"
      },
      "outputs": [],
      "source": [
        "Y = df.price_range"
      ]
    },
    {
      "cell_type": "code",
      "execution_count": 35,
      "metadata": {
        "id": "No4W5eeUaaEK"
      },
      "outputs": [],
      "source": [
        "X_train,X_test,Y_train,Y_test = train_test_split(X,Y,test_size=0.2,random_state=45)"
      ]
    },
    {
      "cell_type": "code",
      "execution_count": 36,
      "metadata": {
        "colab": {
          "base_uri": "https://localhost:8080/"
        },
        "id": "FlyWOnTqaaA2",
        "outputId": "d1352b37-5857-42cc-914e-ebb36f754cbb"
      },
      "outputs": [
        {
          "output_type": "stream",
          "name": "stdout",
          "text": [
            "(1600, 17) (1600,)\n",
            "(400, 17) (400,)\n"
          ]
        }
      ],
      "source": [
        "print(X_train.shape,Y_train.shape)\n",
        "print(X_test.shape,Y_test.shape)"
      ]
    },
    {
      "cell_type": "code",
      "execution_count": 37,
      "metadata": {
        "colab": {
          "base_uri": "https://localhost:8080/"
        },
        "id": "63s41Ix3aZ-v",
        "outputId": "cb0394ce-f09d-456b-dbd1-9a516dadc97b"
      },
      "outputs": [
        {
          "output_type": "execute_result",
          "data": {
            "text/plain": [
              "array([[ 0.38563864, -0.98511083, -1.29073462, ...,  0.75529293,\n",
              "         0.85328365, -0.09680789],\n",
              "       [-0.43246778,  1.01511421,  0.72279954, ..., -0.76660202,\n",
              "        -1.62000228, -0.59621369],\n",
              "       [-1.55306733, -0.98511083, -1.29073462, ...,  1.98120634,\n",
              "        -0.38335932,  1.74715196],\n",
              "       ...,\n",
              "       [ 1.24957735,  1.01511421, -1.29073462, ...,  0.80171537,\n",
              "        -1.62000228,  0.05685543],\n",
              "       [ 1.72623319, -0.98511083,  0.72279954, ..., -0.75360327,\n",
              "         0.85328365, -0.63462952],\n",
              "       [-0.60892211,  1.01511421,  1.31501547, ..., -0.31806556,\n",
              "        -0.38335932,  0.05685543]])"
            ]
          },
          "metadata": {},
          "execution_count": 37
        }
      ],
      "source": [
        "from sklearn.preprocessing import StandardScaler\n",
        "std = StandardScaler()\n",
        "std.fit_transform(X_train)\n",
        "std.fit_transform(X_test)"
      ]
    },
    {
      "cell_type": "markdown",
      "source": [
        "#**KNN**"
      ],
      "metadata": {
        "id": "RoW8TcgBdMm3"
      }
    },
    {
      "cell_type": "code",
      "execution_count": 38,
      "metadata": {
        "colab": {
          "base_uri": "https://localhost:8080/"
        },
        "id": "JNgGYdVtaZ8c",
        "outputId": "eb4a065f-7260-4989-e163-a3c96689ef2e"
      },
      "outputs": [
        {
          "output_type": "execute_result",
          "data": {
            "text/plain": [
              "KNeighborsClassifier()"
            ]
          },
          "metadata": {},
          "execution_count": 38
        }
      ],
      "source": [
        "from sklearn.neighbors import  KNeighborsClassifier\n",
        "knn = KNeighborsClassifier()\n",
        "knn.fit(X_train,Y_train)\n"
      ]
    },
    {
      "cell_type": "code",
      "execution_count": 39,
      "metadata": {
        "colab": {
          "base_uri": "https://localhost:8080/"
        },
        "id": "dsULUooNaZ6W",
        "outputId": "3047a5c2-c1a2-40d9-e06d-d6a9de36609b"
      },
      "outputs": [
        {
          "output_type": "execute_result",
          "data": {
            "text/plain": [
              "array([3, 0, 1, 3, 0, 1, 2, 3, 0, 2, 0, 2, 0, 3, 3, 1, 3, 0, 2, 1, 0, 1,\n",
              "       1, 2, 2, 2, 2, 1, 2, 1, 3, 2, 0, 2, 0, 2, 3, 0, 1, 2, 2, 0, 1, 2,\n",
              "       0, 2, 2, 2, 1, 3, 2, 3, 3, 0, 0, 2, 1, 0, 0, 1, 0, 0, 0, 0, 0, 1,\n",
              "       3, 2, 2, 1, 3, 2, 3, 0, 0, 2, 1, 3, 0, 2, 2, 3, 1, 2, 2, 2, 2, 3,\n",
              "       0, 0, 0, 0, 0, 2, 3, 0, 2, 2, 3, 1, 2, 2, 1, 3, 2, 1, 2, 1, 1, 3,\n",
              "       2, 2, 0, 0, 1, 2, 0, 0, 3, 0, 0, 3, 1, 0, 3, 2, 2, 2, 2, 1, 2, 2,\n",
              "       0, 0, 1, 1, 1, 0, 0, 3, 2, 3, 1, 0, 2, 0, 3, 0, 3, 1, 2, 0, 1, 1,\n",
              "       0, 3, 2, 0, 1, 0, 0, 2, 2, 1, 1, 2, 0, 2, 1, 2, 3, 2, 0, 3, 1, 1,\n",
              "       3, 1, 2, 3, 2, 2, 2, 2, 3, 3, 3, 2, 3, 0, 0, 2, 1, 2, 3, 1, 2, 2,\n",
              "       0, 3, 1, 0, 3, 1, 0, 0, 3, 2, 3, 1, 1, 1, 1, 2, 2, 1, 2, 2, 2, 1,\n",
              "       1, 0, 1, 2, 3, 3, 0, 3, 0, 1, 1, 1, 3, 0, 2, 0, 2, 2, 1, 0, 1, 1,\n",
              "       1, 3, 0, 1, 1, 1, 2, 2, 1, 0, 1, 2, 1, 0, 0, 2, 2, 2, 1, 0, 0, 2,\n",
              "       0, 0, 3, 0, 2, 2, 1, 1, 0, 2, 2, 0, 1, 1, 2, 0, 1, 1, 2, 1, 2, 1,\n",
              "       0, 0, 0, 3, 0, 1, 3, 1, 1, 2, 1, 0, 0, 1, 2, 1, 1, 0, 0, 2, 3, 1,\n",
              "       0, 1, 3, 2, 0, 0, 0, 1, 1, 0, 0, 0, 0, 1, 0, 0, 3, 0, 1, 0, 2, 0,\n",
              "       2, 3, 2, 3, 0, 1, 0, 1, 0, 1, 2, 0, 1, 0, 1, 1, 0, 1, 1, 2, 2, 0,\n",
              "       1, 1, 2, 3, 2, 0, 1, 2, 3, 0, 1, 0, 1, 3, 0, 0, 1, 1, 3, 0, 1, 2,\n",
              "       2, 2, 0, 2, 1, 2, 1, 1, 1, 2, 2, 0, 0, 1, 0, 3, 0, 3, 1, 3, 0, 2,\n",
              "       1, 2, 0, 1])"
            ]
          },
          "metadata": {},
          "execution_count": 39
        }
      ],
      "source": [
        "\n",
        "Y_pred = knn.predict(X_test)\n",
        "Y_pred"
      ]
    },
    {
      "cell_type": "code",
      "source": [
        "from sklearn.tree import DecisionTreeClassifier\n",
        "from sklearn.tree import DecisionTreeRegressor\n",
        "from sklearn.metrics import r2_score \n",
        "from sklearn.metrics import mean_squared_error\n",
        "from sklearn.metrics import mean_absolute_error"
      ],
      "metadata": {
        "id": "xoKM3-PvCA7s"
      },
      "execution_count": 40,
      "outputs": []
    },
    {
      "cell_type": "code",
      "execution_count": 41,
      "metadata": {
        "colab": {
          "base_uri": "https://localhost:8080/"
        },
        "id": "j7z3jCC-aZ4F",
        "outputId": "33aa1064-edfa-42c6-c26c-a4624fb602d1"
      },
      "outputs": [
        {
          "output_type": "stream",
          "name": "stdout",
          "text": [
            "MAE : 0.988\n",
            "MSE : 1.722\n",
            "r2: -0.5078648611681029\n"
          ]
        }
      ],
      "source": [
        "MAE = round(mean_absolute_error(Y_test,Y_pred),3)\n",
        "MSE = round(mean_squared_error(Y_test,Y_pred),3)\n",
        "r2 = r2_score((Y_test),(Y_pred))\n",
        "print(\"MAE :\" , MAE)\n",
        "print(\"MSE :\" , MSE)\n",
        "print(\"r2:\",r2)"
      ]
    },
    {
      "cell_type": "code",
      "source": [
        "print(classification_report(Y_test,Y_pred))\n",
        "print(confusion_matrix(Y_test,Y_pred))"
      ],
      "metadata": {
        "id": "psBAYsDPf1i9",
        "colab": {
          "base_uri": "https://localhost:8080/"
        },
        "outputId": "5b26e961-d188-4a82-eadb-a0ca2e2a54e3"
      },
      "execution_count": 42,
      "outputs": [
        {
          "output_type": "stream",
          "name": "stdout",
          "text": [
            "              precision    recall  f1-score   support\n",
            "\n",
            "           0       0.39      0.43      0.41       104\n",
            "           1       0.38      0.37      0.37       114\n",
            "           2       0.28      0.30      0.29       105\n",
            "           3       0.26      0.21      0.23        77\n",
            "\n",
            "    accuracy                           0.34       400\n",
            "   macro avg       0.33      0.33      0.33       400\n",
            "weighted avg       0.33      0.34      0.33       400\n",
            "\n",
            "[[45 25 24 10]\n",
            " [31 42 24 17]\n",
            " [32 23 31 19]\n",
            " [ 8 20 33 16]]\n"
          ]
        }
      ]
    },
    {
      "cell_type": "markdown",
      "source": [
        "#**SVM**"
      ],
      "metadata": {
        "id": "GRgjxgM-JLvI"
      }
    },
    {
      "cell_type": "code",
      "source": [
        "from sklearn.svm import SVC\n",
        "svc = SVC()\n",
        "svc.fit(X_train,Y_train)\n",
        "     "
      ],
      "metadata": {
        "colab": {
          "base_uri": "https://localhost:8080/"
        },
        "id": "0A2j-aP-JK-R",
        "outputId": "117033df-6ebf-4dab-f7f6-11c569f9cbcc"
      },
      "execution_count": 43,
      "outputs": [
        {
          "output_type": "execute_result",
          "data": {
            "text/plain": [
              "SVC()"
            ]
          },
          "metadata": {},
          "execution_count": 43
        }
      ]
    },
    {
      "cell_type": "code",
      "source": [
        "Y_pred = svc.predict(X_test)\n",
        "Y_pred"
      ],
      "metadata": {
        "colab": {
          "base_uri": "https://localhost:8080/"
        },
        "id": "IFs3ax6WMWdf",
        "outputId": "94562ee6-efb4-4972-b836-87c938a98132"
      },
      "execution_count": 44,
      "outputs": [
        {
          "output_type": "execute_result",
          "data": {
            "text/plain": [
              "array([3, 0, 3, 3, 3, 0, 3, 0, 0, 3, 3, 3, 0, 3, 3, 0, 0, 0, 0, 0, 0, 3,\n",
              "       0, 0, 3, 0, 0, 0, 0, 0, 3, 3, 0, 3, 0, 0, 3, 0, 0, 0, 0, 0, 3, 0,\n",
              "       0, 0, 3, 3, 3, 3, 0, 0, 3, 3, 0, 3, 3, 3, 0, 0, 0, 0, 0, 3, 0, 0,\n",
              "       3, 3, 0, 3, 0, 3, 3, 0, 0, 0, 0, 0, 0, 3, 3, 0, 0, 3, 3, 0, 0, 3,\n",
              "       0, 0, 3, 0, 0, 0, 0, 0, 3, 3, 3, 0, 0, 0, 3, 0, 0, 0, 0, 3, 0, 0,\n",
              "       3, 0, 0, 0, 0, 0, 0, 0, 0, 3, 0, 0, 0, 0, 3, 0, 3, 0, 3, 0, 3, 3,\n",
              "       0, 0, 0, 3, 0, 0, 0, 0, 3, 3, 0, 0, 3, 0, 0, 0, 0, 0, 0, 3, 0, 0,\n",
              "       0, 3, 3, 3, 0, 0, 0, 3, 3, 0, 0, 0, 0, 0, 0, 3, 0, 3, 0, 3, 3, 0,\n",
              "       3, 0, 3, 3, 0, 0, 3, 0, 3, 0, 0, 0, 0, 0, 0, 0, 0, 0, 3, 3, 0, 0,\n",
              "       0, 0, 0, 0, 3, 0, 0, 0, 3, 0, 3, 0, 0, 0, 3, 3, 3, 0, 0, 0, 0, 0,\n",
              "       0, 0, 0, 0, 3, 3, 0, 0, 3, 3, 0, 0, 0, 0, 0, 3, 0, 0, 0, 3, 0, 3,\n",
              "       0, 3, 0, 0, 0, 0, 3, 0, 0, 0, 3, 0, 0, 0, 0, 0, 3, 0, 3, 0, 0, 3,\n",
              "       0, 0, 0, 0, 0, 0, 3, 3, 0, 0, 0, 3, 3, 0, 0, 3, 0, 3, 3, 3, 0, 0,\n",
              "       3, 0, 0, 3, 0, 0, 0, 0, 0, 3, 0, 0, 0, 3, 3, 0, 0, 3, 3, 0, 3, 3,\n",
              "       3, 0, 0, 3, 0, 0, 0, 0, 0, 0, 0, 0, 0, 0, 0, 0, 0, 0, 3, 0, 3, 3,\n",
              "       0, 3, 0, 0, 0, 0, 0, 0, 0, 0, 0, 3, 3, 0, 3, 0, 0, 0, 0, 3, 0, 3,\n",
              "       0, 0, 0, 0, 3, 3, 0, 0, 0, 0, 0, 0, 0, 0, 0, 3, 0, 3, 3, 0, 0, 3,\n",
              "       0, 3, 0, 3, 0, 0, 0, 0, 0, 0, 3, 0, 0, 0, 0, 3, 0, 0, 0, 0, 3, 0,\n",
              "       3, 3, 0, 0])"
            ]
          },
          "metadata": {},
          "execution_count": 44
        }
      ]
    },
    {
      "cell_type": "code",
      "execution_count": 45,
      "metadata": {
        "colab": {
          "base_uri": "https://localhost:8080/"
        },
        "id": "Ye6BaZ3iYhl4",
        "outputId": "6a3021b2-b816-418d-a43d-956ce53daf56"
      },
      "outputs": [
        {
          "output_type": "stream",
          "name": "stdout",
          "text": [
            "MAE : 1.44\n",
            "MSE : 3.225\n",
            "r2: -1.8231432088633568\n"
          ]
        }
      ],
      "source": [
        "MAE = round(mean_absolute_error(Y_test,Y_pred),3)\n",
        "MSE = round(mean_squared_error(Y_test,Y_pred),3)\n",
        "r2 = r2_score((Y_test),(Y_pred))\n",
        "print(\"MAE :\" , MAE)\n",
        "print(\"MSE :\" , MSE)\n",
        "print(\"r2:\",r2)"
      ]
    },
    {
      "cell_type": "code",
      "source": [
        "print(classification_report(Y_test,Y_pred))"
      ],
      "metadata": {
        "colab": {
          "base_uri": "https://localhost:8080/"
        },
        "id": "-bQOEIlTdOmq",
        "outputId": "f8330dbf-cfe2-42a0-819c-1c87247c9f00"
      },
      "execution_count": 46,
      "outputs": [
        {
          "output_type": "stream",
          "name": "stdout",
          "text": [
            "              precision    recall  f1-score   support\n",
            "\n",
            "           0       0.28      0.72      0.40       104\n",
            "           1       0.00      0.00      0.00       114\n",
            "           2       0.00      0.00      0.00       105\n",
            "           3       0.22      0.38      0.28        77\n",
            "\n",
            "    accuracy                           0.26       400\n",
            "   macro avg       0.13      0.27      0.17       400\n",
            "weighted avg       0.12      0.26      0.16       400\n",
            "\n"
          ]
        }
      ]
    },
    {
      "cell_type": "markdown",
      "source": [
        "#**Decission tree**#"
      ],
      "metadata": {
        "id": "0pAR4HieOQx3"
      }
    },
    {
      "cell_type": "code",
      "source": [
        "from sklearn.tree import DecisionTreeClassifier\n",
        "\n",
        "dtc = DecisionTreeClassifier()\n",
        "dtc.fit(X_train,Y_train)     \n"
      ],
      "metadata": {
        "colab": {
          "base_uri": "https://localhost:8080/"
        },
        "id": "Vj9XzWyOLpo2",
        "outputId": "848b77fe-89dd-4be9-9a12-8123cb11a063"
      },
      "execution_count": 47,
      "outputs": [
        {
          "output_type": "execute_result",
          "data": {
            "text/plain": [
              "DecisionTreeClassifier()"
            ]
          },
          "metadata": {},
          "execution_count": 47
        }
      ]
    },
    {
      "cell_type": "code",
      "source": [
        "Y_pred = dtc.predict(X_test)"
      ],
      "metadata": {
        "id": "68d0Uj5mNTNh"
      },
      "execution_count": 48,
      "outputs": []
    },
    {
      "cell_type": "code",
      "source": [
        "MAE = round(mean_absolute_error(Y_test,Y_pred),3)\n",
        "MSE = round(mean_squared_error(Y_test,Y_pred),3)\n",
        "r2 = r2_score((Y_test),(Y_pred))\n",
        "print(\"MAE :\" , MAE)\n",
        "print(\"MSE :\" , MSE)\n",
        "print(\"r2:\",r2)"
      ],
      "metadata": {
        "colab": {
          "base_uri": "https://localhost:8080/"
        },
        "id": "w4PpCxhJXdxJ",
        "outputId": "6f58b6ea-1da5-427b-cf6e-63a2ccfc7034"
      },
      "execution_count": 49,
      "outputs": [
        {
          "output_type": "stream",
          "name": "stdout",
          "text": [
            "MAE : 0.142\n",
            "MSE : 0.142\n",
            "r2: 0.8752564628641772\n"
          ]
        }
      ]
    },
    {
      "cell_type": "code",
      "source": [
        "print(classification_report(Y_test,Y_pred))"
      ],
      "metadata": {
        "colab": {
          "base_uri": "https://localhost:8080/"
        },
        "id": "pfG9jCCmdyeR",
        "outputId": "c074e537-c01a-4caf-cf6b-fc83b3e43a1c"
      },
      "execution_count": 50,
      "outputs": [
        {
          "output_type": "stream",
          "name": "stdout",
          "text": [
            "              precision    recall  f1-score   support\n",
            "\n",
            "           0       0.88      0.94      0.91       104\n",
            "           1       0.84      0.81      0.82       114\n",
            "           2       0.85      0.78      0.82       105\n",
            "           3       0.87      0.92      0.89        77\n",
            "\n",
            "    accuracy                           0.86       400\n",
            "   macro avg       0.86      0.86      0.86       400\n",
            "weighted avg       0.86      0.86      0.86       400\n",
            "\n"
          ]
        }
      ]
    },
    {
      "cell_type": "markdown",
      "source": [
        "#**Bagging**"
      ],
      "metadata": {
        "id": "DgF0wL3QX4D7"
      }
    },
    {
      "cell_type": "code",
      "source": [
        "from sklearn.ensemble  import  BaggingClassifier\n",
        "bg = BaggingClassifier()\n",
        "bg.fit(X_train,Y_train)     "
      ],
      "metadata": {
        "colab": {
          "base_uri": "https://localhost:8080/"
        },
        "id": "E9umLAllXiRt",
        "outputId": "7e246474-45a9-4f54-883d-8f617411d6c3"
      },
      "execution_count": 51,
      "outputs": [
        {
          "output_type": "execute_result",
          "data": {
            "text/plain": [
              "BaggingClassifier()"
            ]
          },
          "metadata": {},
          "execution_count": 51
        }
      ]
    },
    {
      "cell_type": "code",
      "source": [
        "Y_Pred = bg.predict(X_test)"
      ],
      "metadata": {
        "id": "Okl5nK3XYGWQ"
      },
      "execution_count": 52,
      "outputs": []
    },
    {
      "cell_type": "code",
      "source": [
        "MAE = round(mean_absolute_error(Y_test,Y_pred),3)\n",
        "MSE = round(mean_squared_error(Y_test,Y_pred),3)\n",
        "r2 = r2_score((Y_test),(Y_pred))\n",
        "print(\"MAE :\" , MAE)\n",
        "print(\"MSE :\" , MSE)\n",
        "print(\"r2:\",r2)"
      ],
      "metadata": {
        "colab": {
          "base_uri": "https://localhost:8080/"
        },
        "id": "Zlclgs5qYLz6",
        "outputId": "1dae30ba-87c0-4bd7-ecfb-98e71c73cd9c"
      },
      "execution_count": 53,
      "outputs": [
        {
          "output_type": "stream",
          "name": "stdout",
          "text": [
            "MAE : 0.142\n",
            "MSE : 0.142\n",
            "r2: 0.8752564628641772\n"
          ]
        }
      ]
    },
    {
      "cell_type": "code",
      "source": [
        "print(classification_report(Y_test,Y_pred))"
      ],
      "metadata": {
        "colab": {
          "base_uri": "https://localhost:8080/"
        },
        "id": "jSuLDDCDd6nq",
        "outputId": "a3b5f3ee-9c25-4309-a2d7-bba84b8a9683"
      },
      "execution_count": 54,
      "outputs": [
        {
          "output_type": "stream",
          "name": "stdout",
          "text": [
            "              precision    recall  f1-score   support\n",
            "\n",
            "           0       0.88      0.94      0.91       104\n",
            "           1       0.84      0.81      0.82       114\n",
            "           2       0.85      0.78      0.82       105\n",
            "           3       0.87      0.92      0.89        77\n",
            "\n",
            "    accuracy                           0.86       400\n",
            "   macro avg       0.86      0.86      0.86       400\n",
            "weighted avg       0.86      0.86      0.86       400\n",
            "\n"
          ]
        }
      ]
    },
    {
      "cell_type": "markdown",
      "source": [
        "#**Random Froest**"
      ],
      "metadata": {
        "id": "tOCUKqk9Zh3n"
      }
    },
    {
      "cell_type": "code",
      "source": [
        "from sklearn.ensemble import RandomForestClassifier\n",
        "rfc = RandomForestClassifier()\n",
        "rfc.fit(X_train,Y_train)     "
      ],
      "metadata": {
        "colab": {
          "base_uri": "https://localhost:8080/"
        },
        "id": "sFiBA3LgZhVf",
        "outputId": "7d33b658-9f4c-4f70-8987-bf97c26db5b7"
      },
      "execution_count": 55,
      "outputs": [
        {
          "output_type": "execute_result",
          "data": {
            "text/plain": [
              "RandomForestClassifier()"
            ]
          },
          "metadata": {},
          "execution_count": 55
        }
      ]
    },
    {
      "cell_type": "code",
      "source": [
        "Y_pred = rfc.predict(X_test)"
      ],
      "metadata": {
        "id": "mp2tLYBvZhAV"
      },
      "execution_count": 56,
      "outputs": []
    },
    {
      "cell_type": "code",
      "source": [
        "MAE = round(mean_absolute_error(Y_test,Y_pred),3)\n",
        "MSE = round(mean_squared_error(Y_test,Y_pred),3)\n",
        "r2 = r2_score((Y_test),(Y_pred))\n",
        "print(\"MAE :\" , MAE)\n",
        "print(\"MSE :\" , MSE)\n",
        "print(\"r2:\",r2)"
      ],
      "metadata": {
        "colab": {
          "base_uri": "https://localhost:8080/"
        },
        "id": "GDnIM-PGZg86",
        "outputId": "fe8b288f-e26b-4095-8038-156d18af2087"
      },
      "execution_count": 57,
      "outputs": [
        {
          "output_type": "stream",
          "name": "stdout",
          "text": [
            "MAE : 0.118\n",
            "MSE : 0.118\n",
            "r2: 0.8971412939406374\n"
          ]
        }
      ]
    },
    {
      "cell_type": "code",
      "source": [
        "print(classification_report(Y_test,Y_pred))"
      ],
      "metadata": {
        "colab": {
          "base_uri": "https://localhost:8080/"
        },
        "id": "bL_rRGRdeHvJ",
        "outputId": "147404a1-70a1-4881-dcd4-7480be52e640"
      },
      "execution_count": 58,
      "outputs": [
        {
          "output_type": "stream",
          "name": "stdout",
          "text": [
            "              precision    recall  f1-score   support\n",
            "\n",
            "           0       0.93      0.97      0.95       104\n",
            "           1       0.85      0.82      0.83       114\n",
            "           2       0.83      0.83      0.83       105\n",
            "           3       0.94      0.94      0.94        77\n",
            "\n",
            "    accuracy                           0.88       400\n",
            "   macro avg       0.89      0.89      0.89       400\n",
            "weighted avg       0.88      0.88      0.88       400\n",
            "\n"
          ]
        }
      ]
    },
    {
      "cell_type": "markdown",
      "source": [
        "**Cross validation**"
      ],
      "metadata": {
        "id": "XYyKpVHAIpKM"
      }
    },
    {
      "cell_type": "code",
      "source": [
        "from sklearn.ensemble import RandomForestRegressor"
      ],
      "metadata": {
        "id": "RQVb9UmzMm9r"
      },
      "execution_count": 78,
      "outputs": []
    },
    {
      "cell_type": "code",
      "source": [
        "#import\n",
        "from sklearn.model_selection import RandomizedSearchCV"
      ],
      "metadata": {
        "id": "asj1aTYdIowZ"
      },
      "execution_count": 79,
      "outputs": []
    },
    {
      "cell_type": "code",
      "source": [
        "random_forest_grid = {'bootstrap': [True, False],'max_depth': [ 80,90,100,150, None], 'min_samples_leaf': [1, 2, 4,5,7],\n",
        "                      'min_samples_split': [2,4,6,8,9],'n_estimators': [100, 125, 150,175,200]}\n"
      ],
      "metadata": {
        "id": "LLvoSBaaIosw"
      },
      "execution_count": 90,
      "outputs": []
    },
    {
      "cell_type": "code",
      "source": [
        "rf_tuned = RandomForestRegressor()\n"
      ],
      "metadata": {
        "id": "B2qpBeaZIoq0"
      },
      "execution_count": 91,
      "outputs": []
    },
    {
      "cell_type": "code",
      "source": [
        "random_forest_cv = RandomizedSearchCV(estimator = rf_tuned, param_distributions = random_forest_grid, n_iter = 10, cv = 3, verbose=2, random_state=42)\n"
      ],
      "metadata": {
        "id": "TQmbqdZxIoob"
      },
      "execution_count": 92,
      "outputs": []
    },
    {
      "cell_type": "code",
      "source": [
        "#fitting\n",
        "random_forest_cv.fit(X_train,Y_train)"
      ],
      "metadata": {
        "colab": {
          "base_uri": "https://localhost:8080/"
        },
        "id": "XxTqhS38IomD",
        "outputId": "75b6735d-32a6-49c1-dfcd-1136481fb3af"
      },
      "execution_count": 93,
      "outputs": [
        {
          "output_type": "stream",
          "name": "stdout",
          "text": [
            "Fitting 3 folds for each of 10 candidates, totalling 30 fits\n",
            "[CV] END bootstrap=False, max_depth=None, min_samples_leaf=1, min_samples_split=2, n_estimators=125; total time=   0.8s\n",
            "[CV] END bootstrap=False, max_depth=None, min_samples_leaf=1, min_samples_split=2, n_estimators=125; total time=   0.9s\n",
            "[CV] END bootstrap=False, max_depth=None, min_samples_leaf=1, min_samples_split=2, n_estimators=125; total time=   0.8s\n",
            "[CV] END bootstrap=False, max_depth=90, min_samples_leaf=7, min_samples_split=6, n_estimators=100; total time=   0.6s\n",
            "[CV] END bootstrap=False, max_depth=90, min_samples_leaf=7, min_samples_split=6, n_estimators=100; total time=   0.6s\n",
            "[CV] END bootstrap=False, max_depth=90, min_samples_leaf=7, min_samples_split=6, n_estimators=100; total time=   0.6s\n",
            "[CV] END bootstrap=False, max_depth=None, min_samples_leaf=1, min_samples_split=4, n_estimators=100; total time=   0.7s\n",
            "[CV] END bootstrap=False, max_depth=None, min_samples_leaf=1, min_samples_split=4, n_estimators=100; total time=   0.7s\n",
            "[CV] END bootstrap=False, max_depth=None, min_samples_leaf=1, min_samples_split=4, n_estimators=100; total time=   0.6s\n",
            "[CV] END bootstrap=False, max_depth=150, min_samples_leaf=5, min_samples_split=9, n_estimators=100; total time=   0.6s\n",
            "[CV] END bootstrap=False, max_depth=150, min_samples_leaf=5, min_samples_split=9, n_estimators=100; total time=   0.6s\n",
            "[CV] END bootstrap=False, max_depth=150, min_samples_leaf=5, min_samples_split=9, n_estimators=100; total time=   0.6s\n",
            "[CV] END bootstrap=False, max_depth=150, min_samples_leaf=2, min_samples_split=8, n_estimators=200; total time=   1.2s\n",
            "[CV] END bootstrap=False, max_depth=150, min_samples_leaf=2, min_samples_split=8, n_estimators=200; total time=   1.3s\n",
            "[CV] END bootstrap=False, max_depth=150, min_samples_leaf=2, min_samples_split=8, n_estimators=200; total time=   1.3s\n",
            "[CV] END bootstrap=True, max_depth=80, min_samples_leaf=7, min_samples_split=9, n_estimators=125; total time=   0.6s\n",
            "[CV] END bootstrap=True, max_depth=80, min_samples_leaf=7, min_samples_split=9, n_estimators=125; total time=   0.5s\n",
            "[CV] END bootstrap=True, max_depth=80, min_samples_leaf=7, min_samples_split=9, n_estimators=125; total time=   0.5s\n",
            "[CV] END bootstrap=True, max_depth=150, min_samples_leaf=5, min_samples_split=8, n_estimators=125; total time=   0.6s\n",
            "[CV] END bootstrap=True, max_depth=150, min_samples_leaf=5, min_samples_split=8, n_estimators=125; total time=   0.6s\n",
            "[CV] END bootstrap=True, max_depth=150, min_samples_leaf=5, min_samples_split=8, n_estimators=125; total time=   0.6s\n",
            "[CV] END bootstrap=False, max_depth=None, min_samples_leaf=7, min_samples_split=6, n_estimators=175; total time=   1.0s\n",
            "[CV] END bootstrap=False, max_depth=None, min_samples_leaf=7, min_samples_split=6, n_estimators=175; total time=   1.0s\n",
            "[CV] END bootstrap=False, max_depth=None, min_samples_leaf=7, min_samples_split=6, n_estimators=175; total time=   1.0s\n",
            "[CV] END bootstrap=True, max_depth=100, min_samples_leaf=5, min_samples_split=4, n_estimators=100; total time=   0.5s\n",
            "[CV] END bootstrap=True, max_depth=100, min_samples_leaf=5, min_samples_split=4, n_estimators=100; total time=   0.5s\n",
            "[CV] END bootstrap=True, max_depth=100, min_samples_leaf=5, min_samples_split=4, n_estimators=100; total time=   0.4s\n",
            "[CV] END bootstrap=True, max_depth=80, min_samples_leaf=5, min_samples_split=6, n_estimators=150; total time=   0.7s\n",
            "[CV] END bootstrap=True, max_depth=80, min_samples_leaf=5, min_samples_split=6, n_estimators=150; total time=   0.7s\n",
            "[CV] END bootstrap=True, max_depth=80, min_samples_leaf=5, min_samples_split=6, n_estimators=150; total time=   0.7s\n"
          ]
        },
        {
          "output_type": "execute_result",
          "data": {
            "text/plain": [
              "RandomizedSearchCV(cv=3, estimator=RandomForestRegressor(),\n",
              "                   param_distributions={'bootstrap': [True, False],\n",
              "                                        'max_depth': [80, 90, 100, 150, None],\n",
              "                                        'min_samples_leaf': [1, 2, 4, 5, 7],\n",
              "                                        'min_samples_split': [2, 4, 6, 8, 9],\n",
              "                                        'n_estimators': [100, 125, 150, 175,\n",
              "                                                         200]},\n",
              "                   random_state=42, verbose=2)"
            ]
          },
          "metadata": {},
          "execution_count": 93
        }
      ]
    },
    {
      "cell_type": "code",
      "source": [
        "#best para\n",
        "random_forest_cv.best_params_"
      ],
      "metadata": {
        "colab": {
          "base_uri": "https://localhost:8080/"
        },
        "id": "GPyN5d2XMR7E",
        "outputId": "c6ee6171-26ae-4dfe-fa9d-2cb5024be238"
      },
      "execution_count": 94,
      "outputs": [
        {
          "output_type": "execute_result",
          "data": {
            "text/plain": [
              "{'n_estimators': 125,\n",
              " 'min_samples_split': 8,\n",
              " 'min_samples_leaf': 5,\n",
              " 'max_depth': 150,\n",
              " 'bootstrap': True}"
            ]
          },
          "metadata": {},
          "execution_count": 94
        }
      ]
    },
    {
      "cell_type": "code",
      "source": [
        "new_random_forest = random_forest_cv.best_params_\n"
      ],
      "metadata": {
        "id": "CFcCWpPIM0j7"
      },
      "execution_count": 95,
      "outputs": []
    },
    {
      "cell_type": "code",
      "source": [
        "# fitting \n",
        "New_random_forest = RandomForestRegressor(n_estimators=100,random_state=42,bootstrap=True,max_depth=80,min_samples_leaf=2,min_samples_split=6)\n",
        "New_random_forest.fit(X_train,Y_train)"
      ],
      "metadata": {
        "colab": {
          "base_uri": "https://localhost:8080/"
        },
        "id": "4d3ItnEmM0gU",
        "outputId": "50c9aee5-3826-485c-c8d7-ceabb8caa3d8"
      },
      "execution_count": 96,
      "outputs": [
        {
          "output_type": "execute_result",
          "data": {
            "text/plain": [
              "RandomForestRegressor(max_depth=80, min_samples_leaf=2, min_samples_split=6,\n",
              "                      random_state=42)"
            ]
          },
          "metadata": {},
          "execution_count": 96
        }
      ]
    },
    {
      "cell_type": "code",
      "source": [
        "Mae = round(mean_absolute_error(Y_test,Y_pred),3)\n",
        "Mse = round(mean_squared_error(Y_test,Y_pred),3)\n",
        "R_2 = r2_score((Y_test),(Y_pred))\n",
        "print(\"Mae :\" , Mae)\n",
        "print(\"Mse :\" , Mse)\n",
        "print(\"R_2:\",R_2)"
      ],
      "metadata": {
        "colab": {
          "base_uri": "https://localhost:8080/"
        },
        "id": "OGfseyrVM0dz",
        "outputId": "7b84a276-5df1-4e54-c374-5df2cc8adccb"
      },
      "execution_count": 97,
      "outputs": [
        {
          "output_type": "stream",
          "name": "stdout",
          "text": [
            "Mae : 0.092\n",
            "Mse : 0.092\n",
            "R_2: 0.9190261250170976\n"
          ]
        }
      ]
    },
    {
      "cell_type": "code",
      "source": [
        "print(classification_report(Y_test,Y_pred))"
      ],
      "metadata": {
        "colab": {
          "base_uri": "https://localhost:8080/"
        },
        "id": "tKl4hyhlM0bk",
        "outputId": "dc449100-a423-454c-e148-7378e4260329"
      },
      "execution_count": 98,
      "outputs": [
        {
          "output_type": "stream",
          "name": "stdout",
          "text": [
            "              precision    recall  f1-score   support\n",
            "\n",
            "           0       0.93      0.94      0.94       104\n",
            "           1       0.87      0.87      0.87       114\n",
            "           2       0.89      0.89      0.89       105\n",
            "           3       0.96      0.95      0.95        77\n",
            "\n",
            "    accuracy                           0.91       400\n",
            "   macro avg       0.91      0.91      0.91       400\n",
            "weighted avg       0.91      0.91      0.91       400\n",
            "\n"
          ]
        }
      ]
    },
    {
      "cell_type": "markdown",
      "source": [
        "#**Gradient boosting**"
      ],
      "metadata": {
        "id": "JEI7epqCaIP4"
      }
    },
    {
      "cell_type": "code",
      "source": [
        "\n",
        "from sklearn.ensemble import GradientBoostingClassifier\n",
        "gb = GradientBoostingClassifier()\n",
        "gb.fit(X_train,Y_train)"
      ],
      "metadata": {
        "colab": {
          "base_uri": "https://localhost:8080/"
        },
        "id": "4qpYcsPAaElk",
        "outputId": "032916ac-6eac-444a-c4e2-242fb2fa8110"
      },
      "execution_count": 59,
      "outputs": [
        {
          "output_type": "execute_result",
          "data": {
            "text/plain": [
              "GradientBoostingClassifier()"
            ]
          },
          "metadata": {},
          "execution_count": 59
        }
      ]
    },
    {
      "cell_type": "code",
      "source": [
        "Y_pred = gb.predict(X_test)"
      ],
      "metadata": {
        "id": "Jd1NLOIqaEiE"
      },
      "execution_count": 60,
      "outputs": []
    },
    {
      "cell_type": "code",
      "source": [
        "MAE = round(mean_absolute_error(Y_test,Y_pred),3)\n",
        "MSE = round(mean_squared_error(Y_test,Y_pred),3)\n",
        "r2 = r2_score((Y_test),(Y_pred))\n",
        "print(\"MAE :\" , MAE)\n",
        "print(\"MSE :\" , MSE)\n",
        "print(\"r2:\",r2)"
      ],
      "metadata": {
        "colab": {
          "base_uri": "https://localhost:8080/"
        },
        "id": "Re4g1FtWaEfQ",
        "outputId": "ae7b821d-014a-4553-a4d9-1d8bf99ab4a8"
      },
      "execution_count": 61,
      "outputs": [
        {
          "output_type": "stream",
          "name": "stdout",
          "text": [
            "MAE : 0.09\n",
            "MSE : 0.09\n",
            "r2: 0.9212146081247435\n"
          ]
        }
      ]
    },
    {
      "cell_type": "code",
      "source": [
        "print(classification_report(Y_test,Y_pred))"
      ],
      "metadata": {
        "colab": {
          "base_uri": "https://localhost:8080/"
        },
        "id": "r8o9Nk7TeNpu",
        "outputId": "abf2d600-6eb8-46cb-80e2-5efcf00e669a"
      },
      "execution_count": 62,
      "outputs": [
        {
          "output_type": "stream",
          "name": "stdout",
          "text": [
            "              precision    recall  f1-score   support\n",
            "\n",
            "           0       0.93      0.95      0.94       104\n",
            "           1       0.88      0.86      0.87       114\n",
            "           2       0.89      0.88      0.88       105\n",
            "           3       0.94      0.97      0.96        77\n",
            "\n",
            "    accuracy                           0.91       400\n",
            "   macro avg       0.91      0.92      0.91       400\n",
            "weighted avg       0.91      0.91      0.91       400\n",
            "\n"
          ]
        }
      ]
    },
    {
      "cell_type": "markdown",
      "source": [
        "**cross validation**"
      ],
      "metadata": {
        "id": "HBVldcRde7uL"
      }
    },
    {
      "cell_type": "markdown",
      "source": [
        "#**XG Boost**"
      ],
      "metadata": {
        "id": "ShRS5svuap8d"
      }
    },
    {
      "cell_type": "code",
      "source": [
        "import xgboost\n",
        "from xgboost import XGBClassifier\n",
        "xgc = XGBClassifier()\n"
      ],
      "metadata": {
        "id": "LTDl787HaEbi"
      },
      "execution_count": 63,
      "outputs": []
    },
    {
      "cell_type": "code",
      "source": [
        "xgc.fit(X_train,Y_train)"
      ],
      "metadata": {
        "colab": {
          "base_uri": "https://localhost:8080/"
        },
        "id": "CPupusfZaEZG",
        "outputId": "4d4788be-45c9-4850-913c-606201101901"
      },
      "execution_count": 64,
      "outputs": [
        {
          "output_type": "execute_result",
          "data": {
            "text/plain": [
              "XGBClassifier(objective='multi:softprob')"
            ]
          },
          "metadata": {},
          "execution_count": 64
        }
      ]
    },
    {
      "cell_type": "code",
      "source": [
        "Y_pred = xgc.predict(X_test)"
      ],
      "metadata": {
        "id": "mUKjFlIZaEVt"
      },
      "execution_count": 65,
      "outputs": []
    },
    {
      "cell_type": "code",
      "source": [
        "MAE = round(mean_absolute_error(Y_test,Y_pred),3)\n",
        "MSE = round(mean_squared_error(Y_test,Y_pred),3)\n",
        "r2 = r2_score((Y_test),(Y_pred))\n",
        "print(\"MAE :\" , MAE)\n",
        "print(\"MSE :\" , MSE)\n",
        "print(\"r2:\",r2)"
      ],
      "metadata": {
        "colab": {
          "base_uri": "https://localhost:8080/"
        },
        "id": "4VXqW3l3aETj",
        "outputId": "c997a190-4e98-437d-d320-13ebca52307f"
      },
      "execution_count": 66,
      "outputs": [
        {
          "output_type": "stream",
          "name": "stdout",
          "text": [
            "MAE : 0.092\n",
            "MSE : 0.092\n",
            "r2: 0.9190261250170976\n"
          ]
        }
      ]
    },
    {
      "cell_type": "code",
      "source": [
        "print(classification_report(Y_test,Y_pred))"
      ],
      "metadata": {
        "colab": {
          "base_uri": "https://localhost:8080/"
        },
        "id": "13hQJ_ppeTLV",
        "outputId": "0a281667-3bd5-4566-b5a2-88faa917a0d7"
      },
      "execution_count": 67,
      "outputs": [
        {
          "output_type": "stream",
          "name": "stdout",
          "text": [
            "              precision    recall  f1-score   support\n",
            "\n",
            "           0       0.93      0.94      0.94       104\n",
            "           1       0.87      0.87      0.87       114\n",
            "           2       0.89      0.89      0.89       105\n",
            "           3       0.96      0.95      0.95        77\n",
            "\n",
            "    accuracy                           0.91       400\n",
            "   macro avg       0.91      0.91      0.91       400\n",
            "weighted avg       0.91      0.91      0.91       400\n",
            "\n"
          ]
        }
      ]
    },
    {
      "cell_type": "markdown",
      "source": [
        "**cross validation**"
      ],
      "metadata": {
        "id": "FlrYkn_wezSE"
      }
    },
    {
      "cell_type": "code",
      "source": [],
      "metadata": {
        "id": "9p7G0gVE98-n"
      },
      "execution_count": 67,
      "outputs": []
    },
    {
      "cell_type": "code",
      "source": [
        "# define parameters\n",
        "xgboost_params = {'learning_rate': [0.05,0.1,0.3],\n",
        "                'max_depth': [3,5,7,9],\n",
        "                'min_child_weight' : [3,5,7,9],\n",
        "                'max_delta_step' : [3,5,7],\n",
        "                'sampling_method' : ['uniform','gradient_based']}"
      ],
      "metadata": {
        "id": "7gXcirqFbVfn"
      },
      "execution_count": 68,
      "outputs": []
    },
    {
      "cell_type": "code",
      "source": [
        "xgbc = XGBClassifier(use_lable_encoder = False,eval_metric = 'merror')"
      ],
      "metadata": {
        "id": "cX15jKLabThR"
      },
      "execution_count": 69,
      "outputs": []
    },
    {
      "cell_type": "code",
      "source": [
        "#gread search\n",
        "grid_search = GridSearchCV(\n",
        "    estimator = xgbc,\n",
        "    param_grid = xgboost_params,\n",
        "    n_jobs= 1,cv = 3,\n",
        "    scoring ='accuracy',\n",
        "    error_score = 0 )\n",
        "grid_result = grid_search.fit(X_train,Y_train)"
      ],
      "metadata": {
        "id": "9dtO5ntbbTdw"
      },
      "execution_count": 70,
      "outputs": []
    },
    {
      "cell_type": "code",
      "source": [
        "# final model\n",
        "final_model = xgc.set_params(**grid_search.best_params_)   "
      ],
      "metadata": {
        "id": "qNG8hS1NbTbA"
      },
      "execution_count": 71,
      "outputs": []
    },
    {
      "cell_type": "code",
      "source": [
        "final_model.fit(X_train,Y_train)"
      ],
      "metadata": {
        "id": "Hg-ubpVEbS2h",
        "colab": {
          "base_uri": "https://localhost:8080/"
        },
        "outputId": "08d6c561-a2cb-4ed5-975a-74fea1b2124f"
      },
      "execution_count": 72,
      "outputs": [
        {
          "output_type": "execute_result",
          "data": {
            "text/plain": [
              "XGBClassifier(learning_rate=0.3, max_delta_step=3, max_depth=5,\n",
              "              min_child_weight=3, objective='multi:softprob',\n",
              "              sampling_method='uniform')"
            ]
          },
          "metadata": {},
          "execution_count": 72
        }
      ]
    },
    {
      "cell_type": "code",
      "source": [
        "Y_presd = final_model.predict(X_test)"
      ],
      "metadata": {
        "id": "O4vtivUOYXWk"
      },
      "execution_count": 73,
      "outputs": []
    },
    {
      "cell_type": "code",
      "source": [
        "print(classification_report(Y_test,Y_pred))"
      ],
      "metadata": {
        "colab": {
          "base_uri": "https://localhost:8080/"
        },
        "id": "NF0IZFg_sRuw",
        "outputId": "d91be976-57f2-425b-931e-adcd178604c5"
      },
      "execution_count": 74,
      "outputs": [
        {
          "output_type": "stream",
          "name": "stdout",
          "text": [
            "              precision    recall  f1-score   support\n",
            "\n",
            "           0       0.93      0.94      0.94       104\n",
            "           1       0.87      0.87      0.87       114\n",
            "           2       0.89      0.89      0.89       105\n",
            "           3       0.96      0.95      0.95        77\n",
            "\n",
            "    accuracy                           0.91       400\n",
            "   macro avg       0.91      0.91      0.91       400\n",
            "weighted avg       0.91      0.91      0.91       400\n",
            "\n"
          ]
        }
      ]
    },
    {
      "cell_type": "code",
      "source": [],
      "metadata": {
        "id": "FrN0HyQGeNde"
      },
      "execution_count": null,
      "outputs": []
    },
    {
      "cell_type": "code",
      "source": [],
      "metadata": {
        "id": "3sGY0Br7eNZ_"
      },
      "execution_count": null,
      "outputs": []
    },
    {
      "cell_type": "code",
      "source": [],
      "metadata": {
        "id": "5fbKdhXKeNYL"
      },
      "execution_count": null,
      "outputs": []
    },
    {
      "cell_type": "code",
      "source": [],
      "metadata": {
        "id": "-pOCwD6keNWR"
      },
      "execution_count": null,
      "outputs": []
    }
  ],
  "metadata": {
    "colab": {
      "provenance": [],
      "authorship_tag": "ABX9TyN5+ZDC2UBHAgISFkUkoTCD",
      "include_colab_link": true
    },
    "kernelspec": {
      "display_name": "Python 3",
      "name": "python3"
    },
    "language_info": {
      "name": "python"
    }
  },
  "nbformat": 4,
  "nbformat_minor": 0
}